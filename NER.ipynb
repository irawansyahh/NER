{
  "nbformat": 4,
  "nbformat_minor": 0,
  "metadata": {
    "colab": {
      "name": "NER.ipynb",
      "provenance": [],
      "toc_visible": true
    },
    "kernelspec": {
      "name": "python3",
      "display_name": "Python 3"
    }
  },
  "cells": [
    {
      "cell_type": "markdown",
      "metadata": {
        "id": "7D_51WqjkGk1"
      },
      "source": [
        "**Tutorial NER dengan Metode CRF**\n",
        "\n",
        "Sumber: \n",
        "\n",
        "https://towardsdatascience.com/named-entity-recognition-and-classification-with-scikit-learn-f05372f07ba2\n",
        "\n",
        "https://sklearn-crfsuite.readthedocs.io/en/latest/tutorial.html\n",
        "\n"
      ]
    },
    {
      "cell_type": "markdown",
      "metadata": {
        "id": "rvONupPdkevC"
      },
      "source": [
        "Install library CRF"
      ]
    },
    {
      "cell_type": "code",
      "metadata": {
        "colab": {
          "base_uri": "https://localhost:8080/"
        },
        "id": "5DE1JTx4fQRq",
        "outputId": "e693f88d-0a6b-4d2d-d64b-8687048524cf"
      },
      "source": [
        "!pip install sklearn_crfsuite"
      ],
      "execution_count": 1,
      "outputs": [
        {
          "output_type": "stream",
          "text": [
            "Requirement already satisfied: sklearn_crfsuite in /usr/local/lib/python3.6/dist-packages (0.3.6)\n",
            "Requirement already satisfied: six in /usr/local/lib/python3.6/dist-packages (from sklearn_crfsuite) (1.15.0)\n",
            "Requirement already satisfied: python-crfsuite>=0.8.3 in /usr/local/lib/python3.6/dist-packages (from sklearn_crfsuite) (0.9.7)\n",
            "Requirement already satisfied: tqdm>=2.0 in /usr/local/lib/python3.6/dist-packages (from sklearn_crfsuite) (4.41.1)\n",
            "Requirement already satisfied: tabulate in /usr/local/lib/python3.6/dist-packages (from sklearn_crfsuite) (0.8.7)\n"
          ],
          "name": "stdout"
        }
      ]
    },
    {
      "cell_type": "markdown",
      "metadata": {
        "id": "R6mPVQIDka3W"
      },
      "source": [
        "Import library yang diperlukan\n"
      ]
    },
    {
      "cell_type": "code",
      "metadata": {
        "id": "y28VujBXbyfe"
      },
      "source": [
        "import pandas as pd\n",
        "import numpy as np\n",
        "from sklearn.model_selection import train_test_split\n",
        "import sklearn_crfsuite\n",
        "from sklearn_crfsuite import scorers\n",
        "from sklearn_crfsuite import metrics\n",
        "from sklearn.metrics import classification_report"
      ],
      "execution_count": 2,
      "outputs": []
    },
    {
      "cell_type": "markdown",
      "metadata": {
        "id": "_0jHM7UXkmFz"
      },
      "source": [
        "Baca dataset. Link file dataset: https://drive.google.com/file/d/17Hm26nL6EQ8aDrr_Abz3KqUkhnxa_Uoi/view?usp=sharing \n",
        "\n",
        "Jangan lupa sesuaikan path!"
      ]
    },
    {
      "cell_type": "code",
      "metadata": {
        "colab": {
          "base_uri": "https://localhost:8080/",
          "height": 191
        },
        "id": "B-EtlTTceYmS",
        "outputId": "2af97aa7-91f6-4f8f-f854-00741386567e"
      },
      "source": [
        "df = pd.read_csv('ner_100000_dataset.csv', encoding = \"ISO-8859-1\")\n",
        "\n",
        "df.head()"
      ],
      "execution_count": 3,
      "outputs": [
        {
          "output_type": "execute_result",
          "data": {
            "text/html": [
              "<div>\n",
              "<style scoped>\n",
              "    .dataframe tbody tr th:only-of-type {\n",
              "        vertical-align: middle;\n",
              "    }\n",
              "\n",
              "    .dataframe tbody tr th {\n",
              "        vertical-align: top;\n",
              "    }\n",
              "\n",
              "    .dataframe thead th {\n",
              "        text-align: right;\n",
              "    }\n",
              "</style>\n",
              "<table border=\"1\" class=\"dataframe\">\n",
              "  <thead>\n",
              "    <tr style=\"text-align: right;\">\n",
              "      <th></th>\n",
              "      <th>Unnamed: 0</th>\n",
              "      <th>Sentence #</th>\n",
              "      <th>Word</th>\n",
              "      <th>POS</th>\n",
              "      <th>Tag</th>\n",
              "    </tr>\n",
              "  </thead>\n",
              "  <tbody>\n",
              "    <tr>\n",
              "      <th>0</th>\n",
              "      <td>0</td>\n",
              "      <td>Sentence: 1</td>\n",
              "      <td>Thousands</td>\n",
              "      <td>NNS</td>\n",
              "      <td>O</td>\n",
              "    </tr>\n",
              "    <tr>\n",
              "      <th>1</th>\n",
              "      <td>1</td>\n",
              "      <td>NaN</td>\n",
              "      <td>of</td>\n",
              "      <td>IN</td>\n",
              "      <td>O</td>\n",
              "    </tr>\n",
              "    <tr>\n",
              "      <th>2</th>\n",
              "      <td>2</td>\n",
              "      <td>NaN</td>\n",
              "      <td>demonstrators</td>\n",
              "      <td>NNS</td>\n",
              "      <td>O</td>\n",
              "    </tr>\n",
              "    <tr>\n",
              "      <th>3</th>\n",
              "      <td>3</td>\n",
              "      <td>NaN</td>\n",
              "      <td>have</td>\n",
              "      <td>VBP</td>\n",
              "      <td>O</td>\n",
              "    </tr>\n",
              "    <tr>\n",
              "      <th>4</th>\n",
              "      <td>4</td>\n",
              "      <td>NaN</td>\n",
              "      <td>marched</td>\n",
              "      <td>VBN</td>\n",
              "      <td>O</td>\n",
              "    </tr>\n",
              "  </tbody>\n",
              "</table>\n",
              "</div>"
            ],
            "text/plain": [
              "   Unnamed: 0   Sentence #           Word  POS Tag\n",
              "0           0  Sentence: 1      Thousands  NNS   O\n",
              "1           1          NaN             of   IN   O\n",
              "2           2          NaN  demonstrators  NNS   O\n",
              "3           3          NaN           have  VBP   O\n",
              "4           4          NaN        marched  VBN   O"
            ]
          },
          "metadata": {
            "tags": []
          },
          "execution_count": 3
        }
      ]
    },
    {
      "cell_type": "markdown",
      "metadata": {
        "id": "fHLm6RX2ksIf"
      },
      "source": [
        "Preprocess, update NaN pada kolom Sentence # dengan nomor kalimat yang ada di baris terakhir sebelumnya."
      ]
    },
    {
      "cell_type": "code",
      "metadata": {
        "colab": {
          "base_uri": "https://localhost:8080/"
        },
        "id": "EakYbUeei6DC",
        "outputId": "3cc7cf92-042b-4d14-d575-e9c60dc66e49"
      },
      "source": [
        "df = df.fillna(method='ffill')\n",
        "df['Sentence #'].nunique(), df.Word.nunique(), df.Tag.nunique()"
      ],
      "execution_count": 4,
      "outputs": [
        {
          "output_type": "execute_result",
          "data": {
            "text/plain": [
              "(4544, 10922, 17)"
            ]
          },
          "metadata": {
            "tags": []
          },
          "execution_count": 4
        }
      ]
    },
    {
      "cell_type": "markdown",
      "metadata": {
        "id": "v6xH95Ddk-pG"
      },
      "source": [
        "Cek persebaran tag. Dapat dilihat jika persebarannya tidak seimbang (imbalanced)"
      ]
    },
    {
      "cell_type": "code",
      "metadata": {
        "colab": {
          "base_uri": "https://localhost:8080/",
          "height": 536
        },
        "id": "mDDqA1LFe2uh",
        "outputId": "f125e170-53d8-4675-a664-be22a8d452da"
      },
      "source": [
        "df.groupby('Tag').size().reset_index(name='counts')"
      ],
      "execution_count": 5,
      "outputs": [
        {
          "output_type": "execute_result",
          "data": {
            "text/html": [
              "<div>\n",
              "<style scoped>\n",
              "    .dataframe tbody tr th:only-of-type {\n",
              "        vertical-align: middle;\n",
              "    }\n",
              "\n",
              "    .dataframe tbody tr th {\n",
              "        vertical-align: top;\n",
              "    }\n",
              "\n",
              "    .dataframe thead th {\n",
              "        text-align: right;\n",
              "    }\n",
              "</style>\n",
              "<table border=\"1\" class=\"dataframe\">\n",
              "  <thead>\n",
              "    <tr style=\"text-align: right;\">\n",
              "      <th></th>\n",
              "      <th>Tag</th>\n",
              "      <th>counts</th>\n",
              "    </tr>\n",
              "  </thead>\n",
              "  <tbody>\n",
              "    <tr>\n",
              "      <th>0</th>\n",
              "      <td>B-art</td>\n",
              "      <td>75</td>\n",
              "    </tr>\n",
              "    <tr>\n",
              "      <th>1</th>\n",
              "      <td>B-eve</td>\n",
              "      <td>53</td>\n",
              "    </tr>\n",
              "    <tr>\n",
              "      <th>2</th>\n",
              "      <td>B-geo</td>\n",
              "      <td>3303</td>\n",
              "    </tr>\n",
              "    <tr>\n",
              "      <th>3</th>\n",
              "      <td>B-gpe</td>\n",
              "      <td>1740</td>\n",
              "    </tr>\n",
              "    <tr>\n",
              "      <th>4</th>\n",
              "      <td>B-nat</td>\n",
              "      <td>30</td>\n",
              "    </tr>\n",
              "    <tr>\n",
              "      <th>5</th>\n",
              "      <td>B-org</td>\n",
              "      <td>1876</td>\n",
              "    </tr>\n",
              "    <tr>\n",
              "      <th>6</th>\n",
              "      <td>B-per</td>\n",
              "      <td>1668</td>\n",
              "    </tr>\n",
              "    <tr>\n",
              "      <th>7</th>\n",
              "      <td>B-tim</td>\n",
              "      <td>1823</td>\n",
              "    </tr>\n",
              "    <tr>\n",
              "      <th>8</th>\n",
              "      <td>I-art</td>\n",
              "      <td>43</td>\n",
              "    </tr>\n",
              "    <tr>\n",
              "      <th>9</th>\n",
              "      <td>I-eve</td>\n",
              "      <td>47</td>\n",
              "    </tr>\n",
              "    <tr>\n",
              "      <th>10</th>\n",
              "      <td>I-geo</td>\n",
              "      <td>690</td>\n",
              "    </tr>\n",
              "    <tr>\n",
              "      <th>11</th>\n",
              "      <td>I-gpe</td>\n",
              "      <td>51</td>\n",
              "    </tr>\n",
              "    <tr>\n",
              "      <th>12</th>\n",
              "      <td>I-nat</td>\n",
              "      <td>11</td>\n",
              "    </tr>\n",
              "    <tr>\n",
              "      <th>13</th>\n",
              "      <td>I-org</td>\n",
              "      <td>1470</td>\n",
              "    </tr>\n",
              "    <tr>\n",
              "      <th>14</th>\n",
              "      <td>I-per</td>\n",
              "      <td>1846</td>\n",
              "    </tr>\n",
              "    <tr>\n",
              "      <th>15</th>\n",
              "      <td>I-tim</td>\n",
              "      <td>549</td>\n",
              "    </tr>\n",
              "    <tr>\n",
              "      <th>16</th>\n",
              "      <td>O</td>\n",
              "      <td>84725</td>\n",
              "    </tr>\n",
              "  </tbody>\n",
              "</table>\n",
              "</div>"
            ],
            "text/plain": [
              "      Tag  counts\n",
              "0   B-art      75\n",
              "1   B-eve      53\n",
              "2   B-geo    3303\n",
              "3   B-gpe    1740\n",
              "4   B-nat      30\n",
              "5   B-org    1876\n",
              "6   B-per    1668\n",
              "7   B-tim    1823\n",
              "8   I-art      43\n",
              "9   I-eve      47\n",
              "10  I-geo     690\n",
              "11  I-gpe      51\n",
              "12  I-nat      11\n",
              "13  I-org    1470\n",
              "14  I-per    1846\n",
              "15  I-tim     549\n",
              "16      O   84725"
            ]
          },
          "metadata": {
            "tags": []
          },
          "execution_count": 5
        }
      ]
    },
    {
      "cell_type": "markdown",
      "metadata": {
        "id": "UBukk4DFlFOZ"
      },
      "source": [
        "Class untuk mengambil data per sentence"
      ]
    },
    {
      "cell_type": "code",
      "metadata": {
        "id": "JxIKoK7Ae-8y"
      },
      "source": [
        "class SentenceGetter(object):\n",
        "    \n",
        "    def __init__(self, data):\n",
        "        self.n_sent = 1\n",
        "        self.data = data\n",
        "        self.empty = False\n",
        "        agg_func = lambda s: [(w, p, t) for w, p, t in zip(s['Word'].values.tolist(), \n",
        "                                                           s['POS'].values.tolist(), \n",
        "                                                           s['Tag'].values.tolist())]\n",
        "        self.grouped = self.data.groupby('Sentence #').apply(agg_func)\n",
        "        self.sentences = [s for s in self.grouped]\n",
        "        \n",
        "    def get_next(self):\n",
        "        try: \n",
        "            s = self.grouped['Sentence: {}'.format(self.n_sent)]\n",
        "            self.n_sent += 1\n",
        "            return s \n",
        "        except:\n",
        "            return None\n",
        "getter = SentenceGetter(df)\n",
        "sentences = getter.sentences"
      ],
      "execution_count": 6,
      "outputs": []
    },
    {
      "cell_type": "markdown",
      "metadata": {
        "id": "iJ16-Zu1lODL"
      },
      "source": [
        "Fungsi untuk ekstraksi fitur"
      ]
    },
    {
      "cell_type": "markdown",
      "metadata": {
        "id": "NH0dbzemwCYa"
      },
      "source": [
        "# **TANPA fitur POSTag current kata dan POSTag kata konteks**"
      ]
    },
    {
      "cell_type": "code",
      "metadata": {
        "id": "ZLNc9hfuulrW"
      },
      "source": [
        "def word2features(sent, i):\r\n",
        "    word = sent[i][0]\r\n",
        "    postag = sent[i][1]\r\n",
        "    \r\n",
        "    features = {\r\n",
        "        'bias': 1.0, \r\n",
        "        'word.lower()': word.lower(), \r\n",
        "        'word[-3:]': word[-3:],\r\n",
        "        'word[-2:]': word[-2:],\r\n",
        "        'word.isupper()': word.isupper(),\r\n",
        "        'word.istitle()': word.istitle(),\r\n",
        "        'word.isdigit()': word.isdigit(),\r\n",
        "        # 'postag': postag,\r\n",
        "        # 'postag[:2]': postag[:2],\r\n",
        "    }\r\n",
        "    if i > 0:\r\n",
        "        word1 = sent[i-1][0]\r\n",
        "        postag1 = sent[i-1][1]\r\n",
        "        features.update({\r\n",
        "            '-1:word.lower()': word1.lower(),\r\n",
        "            '-1:word.istitle()': word1.istitle(),\r\n",
        "            '-1:word.isupper()': word1.isupper(),\r\n",
        "            # '-1:postag': postag1,\r\n",
        "            # '-1:postag[:2]': postag1[:2],\r\n",
        "        })\r\n",
        "    else:\r\n",
        "        features['BOS'] = True\r\n",
        "    if i < len(sent)-1:\r\n",
        "        word1 = sent[i+1][0]\r\n",
        "        postag1 = sent[i+1][1]\r\n",
        "        features.update({\r\n",
        "            '+1:word.lower()': word1.lower(),\r\n",
        "            '+1:word.istitle()': word1.istitle(),\r\n",
        "            '+1:word.isupper()': word1.isupper(),\r\n",
        "            # '+1:postag': postag1,\r\n",
        "            # '+1:postag[:2]': postag1[:2],\r\n",
        "        })\r\n",
        "    else:\r\n",
        "        features['EOS'] = True\r\n",
        "\r\n",
        "    return features\r\n",
        "\r\n",
        "def sent2features(sent):\r\n",
        "    return [word2features(sent, i) for i in range(len(sent))]\r\n",
        "\r\n",
        "def sent2labels(sent):\r\n",
        "    return [label for token, postag, label in sent]\r\n",
        "    \r\n",
        "def sent2tokens(sent):\r\n",
        "    return [token for token, postag, label in sent]"
      ],
      "execution_count": 7,
      "outputs": []
    },
    {
      "cell_type": "markdown",
      "metadata": {
        "id": "8YFcBzJRlSSY"
      },
      "source": [
        "Kelas/label tag, diproses supaya nanti label O tidak diperhitungkan untuk evaluasi"
      ]
    },
    {
      "cell_type": "code",
      "metadata": {
        "colab": {
          "base_uri": "https://localhost:8080/"
        },
        "id": "Bl24p0Dbg3HV",
        "outputId": "c9c36e5d-5892-4db5-c9ec-e49603973b35"
      },
      "source": [
        "y = df.Tag.values\n",
        "classes = np.unique(y)\n",
        "classes = classes.tolist()\n",
        "new_classes = classes.copy()\n",
        "new_classes.pop()\n",
        "new_classes"
      ],
      "execution_count": 8,
      "outputs": [
        {
          "output_type": "execute_result",
          "data": {
            "text/plain": [
              "['B-art',\n",
              " 'B-eve',\n",
              " 'B-geo',\n",
              " 'B-gpe',\n",
              " 'B-nat',\n",
              " 'B-org',\n",
              " 'B-per',\n",
              " 'B-tim',\n",
              " 'I-art',\n",
              " 'I-eve',\n",
              " 'I-geo',\n",
              " 'I-gpe',\n",
              " 'I-nat',\n",
              " 'I-org',\n",
              " 'I-per',\n",
              " 'I-tim']"
            ]
          },
          "metadata": {
            "tags": []
          },
          "execution_count": 8
        }
      ]
    },
    {
      "cell_type": "markdown",
      "metadata": {
        "id": "VmV5pND5lj6M"
      },
      "source": [
        "Ekstraksi fitur dan split data menjadi data train dan data test"
      ]
    },
    {
      "cell_type": "code",
      "metadata": {
        "id": "uefZxF2vfxYY"
      },
      "source": [
        "X = [sent2features(s) for s in sentences]\n",
        "y = [sent2labels(s) for s in sentences]\n",
        "X_train, X_test, y_train, y_test = train_test_split(X, y, test_size=0.33, random_state=0)"
      ],
      "execution_count": 9,
      "outputs": []
    },
    {
      "cell_type": "markdown",
      "metadata": {
        "id": "-k0ocnToloHi"
      },
      "source": [
        "Cek salah satu instance di data train"
      ]
    },
    {
      "cell_type": "code",
      "metadata": {
        "colab": {
          "base_uri": "https://localhost:8080/"
        },
        "id": "b6axuOpZhQj5",
        "outputId": "06c1819d-500b-4720-a50a-36d5eebd0b9e"
      },
      "source": [
        "print(X_train[0])\n",
        "print(y_train[0])"
      ],
      "execution_count": 10,
      "outputs": [
        {
          "output_type": "stream",
          "text": [
            "[{'bias': 1.0, 'word.lower()': 'a', 'word[-3:]': 'A', 'word[-2:]': 'A', 'word.isupper()': True, 'word.istitle()': True, 'word.isdigit()': False, 'BOS': True, '+1:word.lower()': 'second', '+1:word.istitle()': False, '+1:word.isupper()': False}, {'bias': 1.0, 'word.lower()': 'second', 'word[-3:]': 'ond', 'word[-2:]': 'nd', 'word.isupper()': False, 'word.istitle()': False, 'word.isdigit()': False, '-1:word.lower()': 'a', '-1:word.istitle()': True, '-1:word.isupper()': True, '+1:word.lower()': 'nominee', '+1:word.istitle()': False, '+1:word.isupper()': False}, {'bias': 1.0, 'word.lower()': 'nominee', 'word[-3:]': 'nee', 'word[-2:]': 'ee', 'word.isupper()': False, 'word.istitle()': False, 'word.isdigit()': False, '-1:word.lower()': 'second', '-1:word.istitle()': False, '-1:word.isupper()': False, '+1:word.lower()': ',', '+1:word.istitle()': False, '+1:word.isupper()': False}, {'bias': 1.0, 'word.lower()': ',', 'word[-3:]': ',', 'word[-2:]': ',', 'word.isupper()': False, 'word.istitle()': False, 'word.isdigit()': False, '-1:word.lower()': 'nominee', '-1:word.istitle()': False, '-1:word.isupper()': False, '+1:word.lower()': 'general', '+1:word.istitle()': True, '+1:word.isupper()': False}, {'bias': 1.0, 'word.lower()': 'general', 'word[-3:]': 'ral', 'word[-2:]': 'al', 'word.isupper()': False, 'word.istitle()': True, 'word.isdigit()': False, '-1:word.lower()': ',', '-1:word.istitle()': False, '-1:word.isupper()': False, '+1:word.lower()': 'sadeq', '+1:word.istitle()': True, '+1:word.isupper()': False}, {'bias': 1.0, 'word.lower()': 'sadeq', 'word[-3:]': 'deq', 'word[-2:]': 'eq', 'word.isupper()': False, 'word.istitle()': True, 'word.isdigit()': False, '-1:word.lower()': 'general', '-1:word.istitle()': True, '-1:word.isupper()': False, '+1:word.lower()': 'mahsouli', '+1:word.istitle()': True, '+1:word.isupper()': False}, {'bias': 1.0, 'word.lower()': 'mahsouli', 'word[-3:]': 'uli', 'word[-2:]': 'li', 'word.isupper()': False, 'word.istitle()': True, 'word.isdigit()': False, '-1:word.lower()': 'sadeq', '-1:word.istitle()': True, '-1:word.isupper()': False, '+1:word.lower()': '-', '+1:word.istitle()': False, '+1:word.isupper()': False}, {'bias': 1.0, 'word.lower()': '-', 'word[-3:]': '-', 'word[-2:]': '-', 'word.isupper()': False, 'word.istitle()': False, 'word.isdigit()': False, '-1:word.lower()': 'mahsouli', '-1:word.istitle()': True, '-1:word.isupper()': False, '+1:word.lower()': 'a', '+1:word.istitle()': False, '+1:word.isupper()': False}, {'bias': 1.0, 'word.lower()': 'a', 'word[-3:]': 'a', 'word[-2:]': 'a', 'word.isupper()': False, 'word.istitle()': False, 'word.isdigit()': False, '-1:word.lower()': '-', '-1:word.istitle()': False, '-1:word.isupper()': False, '+1:word.lower()': 'revolutionary', '+1:word.istitle()': True, '+1:word.isupper()': False}, {'bias': 1.0, 'word.lower()': 'revolutionary', 'word[-3:]': 'ary', 'word[-2:]': 'ry', 'word.isupper()': False, 'word.istitle()': True, 'word.isdigit()': False, '-1:word.lower()': 'a', '-1:word.istitle()': False, '-1:word.isupper()': False, '+1:word.lower()': 'guards', '+1:word.istitle()': True, '+1:word.isupper()': False}, {'bias': 1.0, 'word.lower()': 'guards', 'word[-3:]': 'rds', 'word[-2:]': 'ds', 'word.isupper()': False, 'word.istitle()': True, 'word.isdigit()': False, '-1:word.lower()': 'revolutionary', '-1:word.istitle()': True, '-1:word.isupper()': False, '+1:word.lower()': 'commander', '+1:word.istitle()': False, '+1:word.isupper()': False}, {'bias': 1.0, 'word.lower()': 'commander', 'word[-3:]': 'der', 'word[-2:]': 'er', 'word.isupper()': False, 'word.istitle()': False, 'word.isdigit()': False, '-1:word.lower()': 'guards', '-1:word.istitle()': True, '-1:word.isupper()': False, '+1:word.lower()': 'with', '+1:word.istitle()': False, '+1:word.isupper()': False}, {'bias': 1.0, 'word.lower()': 'with', 'word[-3:]': 'ith', 'word[-2:]': 'th', 'word.isupper()': False, 'word.istitle()': False, 'word.isdigit()': False, '-1:word.lower()': 'commander', '-1:word.istitle()': False, '-1:word.isupper()': False, '+1:word.lower()': 'no', '+1:word.istitle()': False, '+1:word.isupper()': False}, {'bias': 1.0, 'word.lower()': 'no', 'word[-3:]': 'no', 'word[-2:]': 'no', 'word.isupper()': False, 'word.istitle()': False, 'word.isdigit()': False, '-1:word.lower()': 'with', '-1:word.istitle()': False, '-1:word.isupper()': False, '+1:word.lower()': 'oil', '+1:word.istitle()': False, '+1:word.isupper()': False}, {'bias': 1.0, 'word.lower()': 'oil', 'word[-3:]': 'oil', 'word[-2:]': 'il', 'word.isupper()': False, 'word.istitle()': False, 'word.isdigit()': False, '-1:word.lower()': 'no', '-1:word.istitle()': False, '-1:word.isupper()': False, '+1:word.lower()': 'experience', '+1:word.istitle()': False, '+1:word.isupper()': False}, {'bias': 1.0, 'word.lower()': 'experience', 'word[-3:]': 'nce', 'word[-2:]': 'ce', 'word.isupper()': False, 'word.istitle()': False, 'word.isdigit()': False, '-1:word.lower()': 'oil', '-1:word.istitle()': False, '-1:word.isupper()': False, '+1:word.lower()': '-', '+1:word.istitle()': False, '+1:word.isupper()': False}, {'bias': 1.0, 'word.lower()': '-', 'word[-3:]': '-', 'word[-2:]': '-', 'word.isupper()': False, 'word.istitle()': False, 'word.isdigit()': False, '-1:word.lower()': 'experience', '-1:word.istitle()': False, '-1:word.isupper()': False, '+1:word.lower()': 'withdrew', '+1:word.istitle()': False, '+1:word.isupper()': False}, {'bias': 1.0, 'word.lower()': 'withdrew', 'word[-3:]': 'rew', 'word[-2:]': 'ew', 'word.isupper()': False, 'word.istitle()': False, 'word.isdigit()': False, '-1:word.lower()': '-', '-1:word.istitle()': False, '-1:word.isupper()': False, '+1:word.lower()': 'his', '+1:word.istitle()': False, '+1:word.isupper()': False}, {'bias': 1.0, 'word.lower()': 'his', 'word[-3:]': 'his', 'word[-2:]': 'is', 'word.isupper()': False, 'word.istitle()': False, 'word.isdigit()': False, '-1:word.lower()': 'withdrew', '-1:word.istitle()': False, '-1:word.isupper()': False, '+1:word.lower()': 'candidacy', '+1:word.istitle()': False, '+1:word.isupper()': False}, {'bias': 1.0, 'word.lower()': 'candidacy', 'word[-3:]': 'acy', 'word[-2:]': 'cy', 'word.isupper()': False, 'word.istitle()': False, 'word.isdigit()': False, '-1:word.lower()': 'his', '-1:word.istitle()': False, '-1:word.isupper()': False, '+1:word.lower()': 'earlier', '+1:word.istitle()': False, '+1:word.isupper()': False}, {'bias': 1.0, 'word.lower()': 'earlier', 'word[-3:]': 'ier', 'word[-2:]': 'er', 'word.isupper()': False, 'word.istitle()': False, 'word.isdigit()': False, '-1:word.lower()': 'candidacy', '-1:word.istitle()': False, '-1:word.isupper()': False, '+1:word.lower()': 'this', '+1:word.istitle()': False, '+1:word.isupper()': False}, {'bias': 1.0, 'word.lower()': 'this', 'word[-3:]': 'his', 'word[-2:]': 'is', 'word.isupper()': False, 'word.istitle()': False, 'word.isdigit()': False, '-1:word.lower()': 'earlier', '-1:word.istitle()': False, '-1:word.isupper()': False, '+1:word.lower()': 'month', '+1:word.istitle()': False, '+1:word.isupper()': False}, {'bias': 1.0, 'word.lower()': 'month', 'word[-3:]': 'nth', 'word[-2:]': 'th', 'word.isupper()': False, 'word.istitle()': False, 'word.isdigit()': False, '-1:word.lower()': 'this', '-1:word.istitle()': False, '-1:word.isupper()': False, '+1:word.lower()': 'when', '+1:word.istitle()': False, '+1:word.isupper()': False}, {'bias': 1.0, 'word.lower()': 'when', 'word[-3:]': 'hen', 'word[-2:]': 'en', 'word.isupper()': False, 'word.istitle()': False, 'word.isdigit()': False, '-1:word.lower()': 'month', '-1:word.istitle()': False, '-1:word.isupper()': False, '+1:word.lower()': 'it', '+1:word.istitle()': False, '+1:word.isupper()': False}, {'bias': 1.0, 'word.lower()': 'it', 'word[-3:]': 'it', 'word[-2:]': 'it', 'word.isupper()': False, 'word.istitle()': False, 'word.isdigit()': False, '-1:word.lower()': 'when', '-1:word.istitle()': False, '-1:word.isupper()': False, '+1:word.lower()': 'became', '+1:word.istitle()': False, '+1:word.isupper()': False}, {'bias': 1.0, 'word.lower()': 'became', 'word[-3:]': 'ame', 'word[-2:]': 'me', 'word.isupper()': False, 'word.istitle()': False, 'word.isdigit()': False, '-1:word.lower()': 'it', '-1:word.istitle()': False, '-1:word.isupper()': False, '+1:word.lower()': 'clear', '+1:word.istitle()': False, '+1:word.isupper()': False}, {'bias': 1.0, 'word.lower()': 'clear', 'word[-3:]': 'ear', 'word[-2:]': 'ar', 'word.isupper()': False, 'word.istitle()': False, 'word.isdigit()': False, '-1:word.lower()': 'became', '-1:word.istitle()': False, '-1:word.isupper()': False, '+1:word.lower()': 'parliament', '+1:word.istitle()': False, '+1:word.isupper()': False}, {'bias': 1.0, 'word.lower()': 'parliament', 'word[-3:]': 'ent', 'word[-2:]': 'nt', 'word.isupper()': False, 'word.istitle()': False, 'word.isdigit()': False, '-1:word.lower()': 'clear', '-1:word.istitle()': False, '-1:word.isupper()': False, '+1:word.lower()': 'would', '+1:word.istitle()': False, '+1:word.isupper()': False}, {'bias': 1.0, 'word.lower()': 'would', 'word[-3:]': 'uld', 'word[-2:]': 'ld', 'word.isupper()': False, 'word.istitle()': False, 'word.isdigit()': False, '-1:word.lower()': 'parliament', '-1:word.istitle()': False, '-1:word.isupper()': False, '+1:word.lower()': 'reject', '+1:word.istitle()': False, '+1:word.isupper()': False}, {'bias': 1.0, 'word.lower()': 'reject', 'word[-3:]': 'ect', 'word[-2:]': 'ct', 'word.isupper()': False, 'word.istitle()': False, 'word.isdigit()': False, '-1:word.lower()': 'would', '-1:word.istitle()': False, '-1:word.isupper()': False, '+1:word.lower()': 'him', '+1:word.istitle()': False, '+1:word.isupper()': False}, {'bias': 1.0, 'word.lower()': 'him', 'word[-3:]': 'him', 'word[-2:]': 'im', 'word.isupper()': False, 'word.istitle()': False, 'word.isdigit()': False, '-1:word.lower()': 'reject', '-1:word.istitle()': False, '-1:word.isupper()': False, '+1:word.lower()': 'as', '+1:word.istitle()': False, '+1:word.isupper()': False}, {'bias': 1.0, 'word.lower()': 'as', 'word[-3:]': 'as', 'word[-2:]': 'as', 'word.isupper()': False, 'word.istitle()': False, 'word.isdigit()': False, '-1:word.lower()': 'him', '-1:word.istitle()': False, '-1:word.isupper()': False, '+1:word.lower()': 'well', '+1:word.istitle()': False, '+1:word.isupper()': False}, {'bias': 1.0, 'word.lower()': 'well', 'word[-3:]': 'ell', 'word[-2:]': 'll', 'word.isupper()': False, 'word.istitle()': False, 'word.isdigit()': False, '-1:word.lower()': 'as', '-1:word.istitle()': False, '-1:word.isupper()': False, '+1:word.lower()': '.', '+1:word.istitle()': False, '+1:word.isupper()': False}, {'bias': 1.0, 'word.lower()': '.', 'word[-3:]': '.', 'word[-2:]': '.', 'word.isupper()': False, 'word.istitle()': False, 'word.isdigit()': False, '-1:word.lower()': 'well', '-1:word.istitle()': False, '-1:word.isupper()': False, 'EOS': True}]\n",
            "['O', 'O', 'O', 'O', 'B-org', 'I-org', 'I-org', 'O', 'O', 'B-org', 'I-org', 'O', 'O', 'O', 'O', 'O', 'O', 'O', 'O', 'O', 'O', 'O', 'O', 'O', 'O', 'O', 'O', 'O', 'O', 'O', 'O', 'O', 'O', 'O']\n"
          ],
          "name": "stdout"
        }
      ]
    },
    {
      "cell_type": "markdown",
      "metadata": {
        "id": "sl_gAYwGlsdd"
      },
      "source": [
        "Pelatihan dengan metode CRF"
      ]
    },
    {
      "cell_type": "code",
      "metadata": {
        "colab": {
          "base_uri": "https://localhost:8080/"
        },
        "id": "EIQ73VIvf6SW",
        "outputId": "f1d2c681-920a-4207-ac62-b1be2d0f2099"
      },
      "source": [
        "crf = sklearn_crfsuite.CRF(\n",
        "    algorithm='lbfgs',\n",
        "    c1=0.1,\n",
        "    c2=0.1,\n",
        "    max_iterations=100,\n",
        "    all_possible_transitions=True\n",
        ")\n",
        "crf.fit(X_train, y_train)"
      ],
      "execution_count": 11,
      "outputs": [
        {
          "output_type": "stream",
          "text": [
            "/usr/local/lib/python3.6/dist-packages/sklearn/base.py:197: FutureWarning: From version 0.24, get_params will raise an AttributeError if a parameter cannot be retrieved as an instance attribute. Previously it would return None.\n",
            "  FutureWarning)\n"
          ],
          "name": "stderr"
        },
        {
          "output_type": "execute_result",
          "data": {
            "text/plain": [
              "CRF(algorithm='lbfgs', all_possible_states=None, all_possible_transitions=True,\n",
              "    averaging=None, c=None, c1=0.1, c2=0.1, calibration_candidates=None,\n",
              "    calibration_eta=None, calibration_max_trials=None, calibration_rate=None,\n",
              "    calibration_samples=None, delta=None, epsilon=None, error_sensitive=None,\n",
              "    gamma=None, keep_tempfiles=None, linesearch=None, max_iterations=100,\n",
              "    max_linesearch=None, min_freq=None, model_filename=None, num_memories=None,\n",
              "    pa_type=None, period=None, trainer_cls=None, variance=None, verbose=False)"
            ]
          },
          "metadata": {
            "tags": []
          },
          "execution_count": 11
        }
      ]
    },
    {
      "cell_type": "markdown",
      "metadata": {
        "id": "f14rTqHklxQL"
      },
      "source": [
        "Prediksi label data test.\n",
        "\n",
        "Print metriks evaluasi."
      ]
    },
    {
      "cell_type": "code",
      "metadata": {
        "colab": {
          "base_uri": "https://localhost:8080/"
        },
        "id": "edxURKp5f-uw",
        "outputId": "dbff3b01-795b-4e3d-a36a-8d4239708847"
      },
      "source": [
        "y_pred = crf.predict(X_test)\n",
        "print(metrics.flat_classification_report(y_test, y_pred, labels = new_classes))"
      ],
      "execution_count": 12,
      "outputs": [
        {
          "output_type": "stream",
          "text": [
            "              precision    recall  f1-score   support\n",
            "\n",
            "       B-art       0.00      0.00      0.00        29\n",
            "       B-eve       1.00      0.17      0.29        24\n",
            "       B-geo       0.76      0.87      0.81      1043\n",
            "       B-gpe       0.87      0.78      0.82       588\n",
            "       B-nat       0.80      0.40      0.53        10\n",
            "       B-org       0.74      0.61      0.67       649\n",
            "       B-per       0.81      0.77      0.79       546\n",
            "       B-tim       0.91      0.83      0.87       589\n",
            "       I-art       0.00      0.00      0.00         7\n",
            "       I-eve       1.00      0.11      0.20        18\n",
            "       I-geo       0.68      0.71      0.70       204\n",
            "       I-gpe       0.50      0.53      0.51        17\n",
            "       I-nat       1.00      0.50      0.67         2\n",
            "       I-org       0.78      0.73      0.75       545\n",
            "       I-per       0.79      0.89      0.83       574\n",
            "       I-tim       0.79      0.63      0.70       185\n",
            "\n",
            "   micro avg       0.79      0.77      0.78      5030\n",
            "   macro avg       0.71      0.53      0.57      5030\n",
            "weighted avg       0.79      0.77      0.77      5030\n",
            "\n"
          ],
          "name": "stdout"
        },
        {
          "output_type": "stream",
          "text": [
            "/usr/local/lib/python3.6/dist-packages/sklearn/metrics/_classification.py:1272: UndefinedMetricWarning: Precision and F-score are ill-defined and being set to 0.0 in labels with no predicted samples. Use `zero_division` parameter to control this behavior.\n",
            "  _warn_prf(average, modifier, msg_start, len(result))\n"
          ],
          "name": "stderr"
        }
      ]
    },
    {
      "cell_type": "markdown",
      "metadata": {
        "id": "j3ESzRrEwZRK"
      },
      "source": [
        "# **TANPA fitur Ortografi**"
      ]
    },
    {
      "cell_type": "code",
      "metadata": {
        "id": "9ZqckQR7wZRL"
      },
      "source": [
        "def word2features1(sent, i):\n",
        "    word = sent[i][0]\n",
        "    postag = sent[i][1]\n",
        "    \n",
        "    features = {\n",
        "        'bias': 1.0, \n",
        "        'word.lower()': word.lower(), \n",
        "        'word[-3:]': word[-3:],\n",
        "        'word[-2:]': word[-2:],\n",
        "        # 'word.isupper()': word.isupper(),\n",
        "        # 'word.istitle()': word.istitle(),\n",
        "        # 'word.isdigit()': word.isdigit(),\n",
        "        'postag': postag,\n",
        "        'postag[:2]': postag[:2],\n",
        "    }\n",
        "    if i > 0:\n",
        "        word1 = sent[i-1][0]\n",
        "        postag1 = sent[i-1][1]\n",
        "        features.update({\n",
        "            '-1:word.lower()': word1.lower(),\n",
        "            # '-1:word.istitle()': word1.istitle(),\n",
        "            # '-1:word.isupper()': word1.isupper(),\n",
        "            '-1:postag': postag1,\n",
        "            '-1:postag[:2]': postag1[:2],\n",
        "        })\n",
        "    else:\n",
        "        features['BOS'] = True\n",
        "    if i < len(sent)-1:\n",
        "        word1 = sent[i+1][0]\n",
        "        postag1 = sent[i+1][1]\n",
        "        features.update({\n",
        "            '+1:word.lower()': word1.lower(),\n",
        "            # '+1:word.istitle()': word1.istitle(),\n",
        "            # '+1:word.isupper()': word1.isupper(),\n",
        "            '+1:postag': postag1,\n",
        "            '+1:postag[:2]': postag1[:2],\n",
        "        })\n",
        "    else:\n",
        "        features['EOS'] = True\n",
        "\n",
        "    return features\n",
        "\n",
        "def sent2features1(sent):\n",
        "    return [word2features1(sent, i) for i in range(len(sent))]\n",
        "\n",
        "def sent2labels1(sent):\n",
        "    return [label for token, postag, label in sent]\n",
        "    \n",
        "def sent2tokens1(sent):\n",
        "    return [token for token, postag, label in sent]"
      ],
      "execution_count": 13,
      "outputs": []
    },
    {
      "cell_type": "markdown",
      "metadata": {
        "id": "JNCAtuY7xYHK"
      },
      "source": [
        "Kelas/label tag, diproses supaya nanti label O tidak diperhitungkan untuk evaluasi"
      ]
    },
    {
      "cell_type": "code",
      "metadata": {
        "colab": {
          "base_uri": "https://localhost:8080/"
        },
        "id": "fyTJ56zuxYHK",
        "outputId": "3401cf15-6e1f-4b13-9e1b-76b24bd0830e"
      },
      "source": [
        "y = df.Tag.values\n",
        "classes = np.unique(y)\n",
        "classes = classes.tolist()\n",
        "new_classes = classes.copy()\n",
        "new_classes.pop()\n",
        "new_classes"
      ],
      "execution_count": 14,
      "outputs": [
        {
          "output_type": "execute_result",
          "data": {
            "text/plain": [
              "['B-art',\n",
              " 'B-eve',\n",
              " 'B-geo',\n",
              " 'B-gpe',\n",
              " 'B-nat',\n",
              " 'B-org',\n",
              " 'B-per',\n",
              " 'B-tim',\n",
              " 'I-art',\n",
              " 'I-eve',\n",
              " 'I-geo',\n",
              " 'I-gpe',\n",
              " 'I-nat',\n",
              " 'I-org',\n",
              " 'I-per',\n",
              " 'I-tim']"
            ]
          },
          "metadata": {
            "tags": []
          },
          "execution_count": 14
        }
      ]
    },
    {
      "cell_type": "markdown",
      "metadata": {
        "id": "Z-JY2xfCxYHM"
      },
      "source": [
        "Ekstraksi fitur dan split data menjadi data train dan data test"
      ]
    },
    {
      "cell_type": "code",
      "metadata": {
        "id": "eEvWfGHfxYHM"
      },
      "source": [
        "X = [sent2features1(s) for s in sentences]\n",
        "y = [sent2labels1(s) for s in sentences]\n",
        "X_train, X_test, y_train, y_test = train_test_split(X, y, test_size=0.33, random_state=0)"
      ],
      "execution_count": 15,
      "outputs": []
    },
    {
      "cell_type": "markdown",
      "metadata": {
        "id": "obhYlZ_KxYHN"
      },
      "source": [
        "Cek salah satu instance di data train"
      ]
    },
    {
      "cell_type": "code",
      "metadata": {
        "colab": {
          "base_uri": "https://localhost:8080/"
        },
        "id": "9P70terVxYHN",
        "outputId": "2365e026-99be-4069-86e8-69a48583281d"
      },
      "source": [
        "print(X_train[0])\n",
        "print(y_train[0])"
      ],
      "execution_count": 16,
      "outputs": [
        {
          "output_type": "stream",
          "text": [
            "[{'bias': 1.0, 'word.lower()': 'a', 'word[-3:]': 'A', 'word[-2:]': 'A', 'postag': 'DT', 'postag[:2]': 'DT', 'BOS': True, '+1:word.lower()': 'second', '+1:postag': 'JJ', '+1:postag[:2]': 'JJ'}, {'bias': 1.0, 'word.lower()': 'second', 'word[-3:]': 'ond', 'word[-2:]': 'nd', 'postag': 'JJ', 'postag[:2]': 'JJ', '-1:word.lower()': 'a', '-1:postag': 'DT', '-1:postag[:2]': 'DT', '+1:word.lower()': 'nominee', '+1:postag': 'NN', '+1:postag[:2]': 'NN'}, {'bias': 1.0, 'word.lower()': 'nominee', 'word[-3:]': 'nee', 'word[-2:]': 'ee', 'postag': 'NN', 'postag[:2]': 'NN', '-1:word.lower()': 'second', '-1:postag': 'JJ', '-1:postag[:2]': 'JJ', '+1:word.lower()': ',', '+1:postag': ',', '+1:postag[:2]': ','}, {'bias': 1.0, 'word.lower()': ',', 'word[-3:]': ',', 'word[-2:]': ',', 'postag': ',', 'postag[:2]': ',', '-1:word.lower()': 'nominee', '-1:postag': 'NN', '-1:postag[:2]': 'NN', '+1:word.lower()': 'general', '+1:postag': 'NNP', '+1:postag[:2]': 'NN'}, {'bias': 1.0, 'word.lower()': 'general', 'word[-3:]': 'ral', 'word[-2:]': 'al', 'postag': 'NNP', 'postag[:2]': 'NN', '-1:word.lower()': ',', '-1:postag': ',', '-1:postag[:2]': ',', '+1:word.lower()': 'sadeq', '+1:postag': 'NNP', '+1:postag[:2]': 'NN'}, {'bias': 1.0, 'word.lower()': 'sadeq', 'word[-3:]': 'deq', 'word[-2:]': 'eq', 'postag': 'NNP', 'postag[:2]': 'NN', '-1:word.lower()': 'general', '-1:postag': 'NNP', '-1:postag[:2]': 'NN', '+1:word.lower()': 'mahsouli', '+1:postag': 'NNP', '+1:postag[:2]': 'NN'}, {'bias': 1.0, 'word.lower()': 'mahsouli', 'word[-3:]': 'uli', 'word[-2:]': 'li', 'postag': 'NNP', 'postag[:2]': 'NN', '-1:word.lower()': 'sadeq', '-1:postag': 'NNP', '-1:postag[:2]': 'NN', '+1:word.lower()': '-', '+1:postag': 'IN', '+1:postag[:2]': 'IN'}, {'bias': 1.0, 'word.lower()': '-', 'word[-3:]': '-', 'word[-2:]': '-', 'postag': 'IN', 'postag[:2]': 'IN', '-1:word.lower()': 'mahsouli', '-1:postag': 'NNP', '-1:postag[:2]': 'NN', '+1:word.lower()': 'a', '+1:postag': 'DT', '+1:postag[:2]': 'DT'}, {'bias': 1.0, 'word.lower()': 'a', 'word[-3:]': 'a', 'word[-2:]': 'a', 'postag': 'DT', 'postag[:2]': 'DT', '-1:word.lower()': '-', '-1:postag': 'IN', '-1:postag[:2]': 'IN', '+1:word.lower()': 'revolutionary', '+1:postag': 'JJ', '+1:postag[:2]': 'JJ'}, {'bias': 1.0, 'word.lower()': 'revolutionary', 'word[-3:]': 'ary', 'word[-2:]': 'ry', 'postag': 'JJ', 'postag[:2]': 'JJ', '-1:word.lower()': 'a', '-1:postag': 'DT', '-1:postag[:2]': 'DT', '+1:word.lower()': 'guards', '+1:postag': 'NNP', '+1:postag[:2]': 'NN'}, {'bias': 1.0, 'word.lower()': 'guards', 'word[-3:]': 'rds', 'word[-2:]': 'ds', 'postag': 'NNP', 'postag[:2]': 'NN', '-1:word.lower()': 'revolutionary', '-1:postag': 'JJ', '-1:postag[:2]': 'JJ', '+1:word.lower()': 'commander', '+1:postag': 'NN', '+1:postag[:2]': 'NN'}, {'bias': 1.0, 'word.lower()': 'commander', 'word[-3:]': 'der', 'word[-2:]': 'er', 'postag': 'NN', 'postag[:2]': 'NN', '-1:word.lower()': 'guards', '-1:postag': 'NNP', '-1:postag[:2]': 'NN', '+1:word.lower()': 'with', '+1:postag': 'IN', '+1:postag[:2]': 'IN'}, {'bias': 1.0, 'word.lower()': 'with', 'word[-3:]': 'ith', 'word[-2:]': 'th', 'postag': 'IN', 'postag[:2]': 'IN', '-1:word.lower()': 'commander', '-1:postag': 'NN', '-1:postag[:2]': 'NN', '+1:word.lower()': 'no', '+1:postag': 'DT', '+1:postag[:2]': 'DT'}, {'bias': 1.0, 'word.lower()': 'no', 'word[-3:]': 'no', 'word[-2:]': 'no', 'postag': 'DT', 'postag[:2]': 'DT', '-1:word.lower()': 'with', '-1:postag': 'IN', '-1:postag[:2]': 'IN', '+1:word.lower()': 'oil', '+1:postag': 'NN', '+1:postag[:2]': 'NN'}, {'bias': 1.0, 'word.lower()': 'oil', 'word[-3:]': 'oil', 'word[-2:]': 'il', 'postag': 'NN', 'postag[:2]': 'NN', '-1:word.lower()': 'no', '-1:postag': 'DT', '-1:postag[:2]': 'DT', '+1:word.lower()': 'experience', '+1:postag': 'NN', '+1:postag[:2]': 'NN'}, {'bias': 1.0, 'word.lower()': 'experience', 'word[-3:]': 'nce', 'word[-2:]': 'ce', 'postag': 'NN', 'postag[:2]': 'NN', '-1:word.lower()': 'oil', '-1:postag': 'NN', '-1:postag[:2]': 'NN', '+1:word.lower()': '-', '+1:postag': ':', '+1:postag[:2]': ':'}, {'bias': 1.0, 'word.lower()': '-', 'word[-3:]': '-', 'word[-2:]': '-', 'postag': ':', 'postag[:2]': ':', '-1:word.lower()': 'experience', '-1:postag': 'NN', '-1:postag[:2]': 'NN', '+1:word.lower()': 'withdrew', '+1:postag': 'VBD', '+1:postag[:2]': 'VB'}, {'bias': 1.0, 'word.lower()': 'withdrew', 'word[-3:]': 'rew', 'word[-2:]': 'ew', 'postag': 'VBD', 'postag[:2]': 'VB', '-1:word.lower()': '-', '-1:postag': ':', '-1:postag[:2]': ':', '+1:word.lower()': 'his', '+1:postag': 'PRP$', '+1:postag[:2]': 'PR'}, {'bias': 1.0, 'word.lower()': 'his', 'word[-3:]': 'his', 'word[-2:]': 'is', 'postag': 'PRP$', 'postag[:2]': 'PR', '-1:word.lower()': 'withdrew', '-1:postag': 'VBD', '-1:postag[:2]': 'VB', '+1:word.lower()': 'candidacy', '+1:postag': 'NN', '+1:postag[:2]': 'NN'}, {'bias': 1.0, 'word.lower()': 'candidacy', 'word[-3:]': 'acy', 'word[-2:]': 'cy', 'postag': 'NN', 'postag[:2]': 'NN', '-1:word.lower()': 'his', '-1:postag': 'PRP$', '-1:postag[:2]': 'PR', '+1:word.lower()': 'earlier', '+1:postag': 'RBR', '+1:postag[:2]': 'RB'}, {'bias': 1.0, 'word.lower()': 'earlier', 'word[-3:]': 'ier', 'word[-2:]': 'er', 'postag': 'RBR', 'postag[:2]': 'RB', '-1:word.lower()': 'candidacy', '-1:postag': 'NN', '-1:postag[:2]': 'NN', '+1:word.lower()': 'this', '+1:postag': 'DT', '+1:postag[:2]': 'DT'}, {'bias': 1.0, 'word.lower()': 'this', 'word[-3:]': 'his', 'word[-2:]': 'is', 'postag': 'DT', 'postag[:2]': 'DT', '-1:word.lower()': 'earlier', '-1:postag': 'RBR', '-1:postag[:2]': 'RB', '+1:word.lower()': 'month', '+1:postag': 'NN', '+1:postag[:2]': 'NN'}, {'bias': 1.0, 'word.lower()': 'month', 'word[-3:]': 'nth', 'word[-2:]': 'th', 'postag': 'NN', 'postag[:2]': 'NN', '-1:word.lower()': 'this', '-1:postag': 'DT', '-1:postag[:2]': 'DT', '+1:word.lower()': 'when', '+1:postag': 'WRB', '+1:postag[:2]': 'WR'}, {'bias': 1.0, 'word.lower()': 'when', 'word[-3:]': 'hen', 'word[-2:]': 'en', 'postag': 'WRB', 'postag[:2]': 'WR', '-1:word.lower()': 'month', '-1:postag': 'NN', '-1:postag[:2]': 'NN', '+1:word.lower()': 'it', '+1:postag': 'PRP', '+1:postag[:2]': 'PR'}, {'bias': 1.0, 'word.lower()': 'it', 'word[-3:]': 'it', 'word[-2:]': 'it', 'postag': 'PRP', 'postag[:2]': 'PR', '-1:word.lower()': 'when', '-1:postag': 'WRB', '-1:postag[:2]': 'WR', '+1:word.lower()': 'became', '+1:postag': 'VBD', '+1:postag[:2]': 'VB'}, {'bias': 1.0, 'word.lower()': 'became', 'word[-3:]': 'ame', 'word[-2:]': 'me', 'postag': 'VBD', 'postag[:2]': 'VB', '-1:word.lower()': 'it', '-1:postag': 'PRP', '-1:postag[:2]': 'PR', '+1:word.lower()': 'clear', '+1:postag': 'JJ', '+1:postag[:2]': 'JJ'}, {'bias': 1.0, 'word.lower()': 'clear', 'word[-3:]': 'ear', 'word[-2:]': 'ar', 'postag': 'JJ', 'postag[:2]': 'JJ', '-1:word.lower()': 'became', '-1:postag': 'VBD', '-1:postag[:2]': 'VB', '+1:word.lower()': 'parliament', '+1:postag': 'NN', '+1:postag[:2]': 'NN'}, {'bias': 1.0, 'word.lower()': 'parliament', 'word[-3:]': 'ent', 'word[-2:]': 'nt', 'postag': 'NN', 'postag[:2]': 'NN', '-1:word.lower()': 'clear', '-1:postag': 'JJ', '-1:postag[:2]': 'JJ', '+1:word.lower()': 'would', '+1:postag': 'MD', '+1:postag[:2]': 'MD'}, {'bias': 1.0, 'word.lower()': 'would', 'word[-3:]': 'uld', 'word[-2:]': 'ld', 'postag': 'MD', 'postag[:2]': 'MD', '-1:word.lower()': 'parliament', '-1:postag': 'NN', '-1:postag[:2]': 'NN', '+1:word.lower()': 'reject', '+1:postag': 'VB', '+1:postag[:2]': 'VB'}, {'bias': 1.0, 'word.lower()': 'reject', 'word[-3:]': 'ect', 'word[-2:]': 'ct', 'postag': 'VB', 'postag[:2]': 'VB', '-1:word.lower()': 'would', '-1:postag': 'MD', '-1:postag[:2]': 'MD', '+1:word.lower()': 'him', '+1:postag': 'PRP', '+1:postag[:2]': 'PR'}, {'bias': 1.0, 'word.lower()': 'him', 'word[-3:]': 'him', 'word[-2:]': 'im', 'postag': 'PRP', 'postag[:2]': 'PR', '-1:word.lower()': 'reject', '-1:postag': 'VB', '-1:postag[:2]': 'VB', '+1:word.lower()': 'as', '+1:postag': 'RB', '+1:postag[:2]': 'RB'}, {'bias': 1.0, 'word.lower()': 'as', 'word[-3:]': 'as', 'word[-2:]': 'as', 'postag': 'RB', 'postag[:2]': 'RB', '-1:word.lower()': 'him', '-1:postag': 'PRP', '-1:postag[:2]': 'PR', '+1:word.lower()': 'well', '+1:postag': 'RB', '+1:postag[:2]': 'RB'}, {'bias': 1.0, 'word.lower()': 'well', 'word[-3:]': 'ell', 'word[-2:]': 'll', 'postag': 'RB', 'postag[:2]': 'RB', '-1:word.lower()': 'as', '-1:postag': 'RB', '-1:postag[:2]': 'RB', '+1:word.lower()': '.', '+1:postag': '.', '+1:postag[:2]': '.'}, {'bias': 1.0, 'word.lower()': '.', 'word[-3:]': '.', 'word[-2:]': '.', 'postag': '.', 'postag[:2]': '.', '-1:word.lower()': 'well', '-1:postag': 'RB', '-1:postag[:2]': 'RB', 'EOS': True}]\n",
            "['O', 'O', 'O', 'O', 'B-org', 'I-org', 'I-org', 'O', 'O', 'B-org', 'I-org', 'O', 'O', 'O', 'O', 'O', 'O', 'O', 'O', 'O', 'O', 'O', 'O', 'O', 'O', 'O', 'O', 'O', 'O', 'O', 'O', 'O', 'O', 'O']\n"
          ],
          "name": "stdout"
        }
      ]
    },
    {
      "cell_type": "markdown",
      "metadata": {
        "id": "0raxTIbBxYHN"
      },
      "source": [
        "Pelatihan dengan metode CRF"
      ]
    },
    {
      "cell_type": "code",
      "metadata": {
        "colab": {
          "base_uri": "https://localhost:8080/"
        },
        "id": "3O25TZi3xYHO",
        "outputId": "6e412b23-e9fb-40cc-baa5-22226862166e"
      },
      "source": [
        "crf = sklearn_crfsuite.CRF(\n",
        "    algorithm='lbfgs',\n",
        "    c1=0.1,\n",
        "    c2=0.1,\n",
        "    max_iterations=100,\n",
        "    all_possible_transitions=True\n",
        ")\n",
        "crf.fit(X_train, y_train)"
      ],
      "execution_count": 17,
      "outputs": [
        {
          "output_type": "stream",
          "text": [
            "/usr/local/lib/python3.6/dist-packages/sklearn/base.py:197: FutureWarning: From version 0.24, get_params will raise an AttributeError if a parameter cannot be retrieved as an instance attribute. Previously it would return None.\n",
            "  FutureWarning)\n"
          ],
          "name": "stderr"
        },
        {
          "output_type": "execute_result",
          "data": {
            "text/plain": [
              "CRF(algorithm='lbfgs', all_possible_states=None, all_possible_transitions=True,\n",
              "    averaging=None, c=None, c1=0.1, c2=0.1, calibration_candidates=None,\n",
              "    calibration_eta=None, calibration_max_trials=None, calibration_rate=None,\n",
              "    calibration_samples=None, delta=None, epsilon=None, error_sensitive=None,\n",
              "    gamma=None, keep_tempfiles=None, linesearch=None, max_iterations=100,\n",
              "    max_linesearch=None, min_freq=None, model_filename=None, num_memories=None,\n",
              "    pa_type=None, period=None, trainer_cls=None, variance=None, verbose=False)"
            ]
          },
          "metadata": {
            "tags": []
          },
          "execution_count": 17
        }
      ]
    },
    {
      "cell_type": "markdown",
      "metadata": {
        "id": "dqmRRvI3xYHO"
      },
      "source": [
        "Prediksi label data test.\n",
        "\n",
        "Print metriks evaluasi."
      ]
    },
    {
      "cell_type": "code",
      "metadata": {
        "colab": {
          "base_uri": "https://localhost:8080/"
        },
        "id": "M7rRQHjLxYHO",
        "outputId": "6e8f06c7-650b-4c36-facd-2bd505ddc6f4"
      },
      "source": [
        "y_pred = crf.predict(X_test)\n",
        "print(metrics.flat_classification_report(y_test, y_pred, labels = new_classes))"
      ],
      "execution_count": 18,
      "outputs": [
        {
          "output_type": "stream",
          "text": [
            "              precision    recall  f1-score   support\n",
            "\n",
            "       B-art       1.00      0.03      0.07        29\n",
            "       B-eve       1.00      0.25      0.40        24\n",
            "       B-geo       0.75      0.88      0.81      1043\n",
            "       B-gpe       0.88      0.76      0.82       588\n",
            "       B-nat       0.75      0.30      0.43        10\n",
            "       B-org       0.75      0.61      0.67       649\n",
            "       B-per       0.81      0.81      0.81       546\n",
            "       B-tim       0.90      0.84      0.87       589\n",
            "       I-art       0.00      0.00      0.00         7\n",
            "       I-eve       1.00      0.22      0.36        18\n",
            "       I-geo       0.67      0.70      0.68       204\n",
            "       I-gpe       0.45      0.53      0.49        17\n",
            "       I-nat       1.00      0.50      0.67         2\n",
            "       I-org       0.78      0.72      0.74       545\n",
            "       I-per       0.79      0.90      0.84       574\n",
            "       I-tim       0.79      0.68      0.73       185\n",
            "\n",
            "   micro avg       0.79      0.77      0.78      5030\n",
            "   macro avg       0.77      0.55      0.59      5030\n",
            "weighted avg       0.80      0.77      0.78      5030\n",
            "\n"
          ],
          "name": "stdout"
        },
        {
          "output_type": "stream",
          "text": [
            "/usr/local/lib/python3.6/dist-packages/sklearn/metrics/_classification.py:1272: UndefinedMetricWarning: Precision and F-score are ill-defined and being set to 0.0 in labels with no predicted samples. Use `zero_division` parameter to control this behavior.\n",
            "  _warn_prf(average, modifier, msg_start, len(result))\n"
          ],
          "name": "stderr"
        }
      ]
    },
    {
      "cell_type": "markdown",
      "metadata": {
        "id": "Wfw--oqZxiaF"
      },
      "source": [
        "# **TANPA fitur akhiran pada current kata**"
      ]
    },
    {
      "cell_type": "code",
      "metadata": {
        "id": "0GrGR3upxiaF"
      },
      "source": [
        "def word2features2(sent, i):\n",
        "    word = sent[i][0]\n",
        "    postag = sent[i][1]\n",
        "    \n",
        "    features = {\n",
        "        'bias': 1.0, \n",
        "        'word.lower()': word.lower(), \n",
        "        # 'word[-3:]': word[-3:],\n",
        "        # 'word[-2:]': word[-2:],\n",
        "        'word.isupper()': word.isupper(),\n",
        "        'word.istitle()': word.istitle(),\n",
        "        'word.isdigit()': word.isdigit(),\n",
        "        'postag': postag,\n",
        "        'postag[:2]': postag[:2],\n",
        "    }\n",
        "    if i > 0:\n",
        "        word1 = sent[i-1][0]\n",
        "        postag1 = sent[i-1][1]\n",
        "        features.update({\n",
        "            '-1:word.lower()': word1.lower(),\n",
        "            '-1:word.istitle()': word1.istitle(),\n",
        "            '-1:word.isupper()': word1.isupper(),\n",
        "            '-1:postag': postag1,\n",
        "            '-1:postag[:2]': postag1[:2],\n",
        "        })\n",
        "    else:\n",
        "        features['BOS'] = True\n",
        "    if i < len(sent)-1:\n",
        "        word1 = sent[i+1][0]\n",
        "        postag1 = sent[i+1][1]\n",
        "        features.update({\n",
        "            '+1:word.lower()': word1.lower(),\n",
        "            '+1:word.istitle()': word1.istitle(),\n",
        "            '+1:word.isupper()': word1.isupper(),\n",
        "            '+1:postag': postag1,\n",
        "            '+1:postag[:2]': postag1[:2],\n",
        "        })\n",
        "    else:\n",
        "        features['EOS'] = True\n",
        "\n",
        "    return features\n",
        "\n",
        "def sent2features2(sent):\n",
        "    return [word2features2(sent, i) for i in range(len(sent))]\n",
        "\n",
        "def sent2labels2(sent):\n",
        "    return [label for token, postag, label in sent]\n",
        "    \n",
        "def sent2tokens2(sent):\n",
        "    return [token for token, postag, label in sent]"
      ],
      "execution_count": 19,
      "outputs": []
    },
    {
      "cell_type": "markdown",
      "metadata": {
        "id": "G2-gYJiOxemB"
      },
      "source": [
        "Kelas/label tag, diproses supaya nanti label O tidak diperhitungkan untuk evaluasi"
      ]
    },
    {
      "cell_type": "code",
      "metadata": {
        "colab": {
          "base_uri": "https://localhost:8080/"
        },
        "id": "oViQX1pAxemD",
        "outputId": "2929995c-d215-492f-c8b0-f1b84606f4b5"
      },
      "source": [
        "y = df.Tag.values\n",
        "classes = np.unique(y)\n",
        "classes = classes.tolist()\n",
        "new_classes = classes.copy()\n",
        "new_classes.pop()\n",
        "new_classes"
      ],
      "execution_count": 20,
      "outputs": [
        {
          "output_type": "execute_result",
          "data": {
            "text/plain": [
              "['B-art',\n",
              " 'B-eve',\n",
              " 'B-geo',\n",
              " 'B-gpe',\n",
              " 'B-nat',\n",
              " 'B-org',\n",
              " 'B-per',\n",
              " 'B-tim',\n",
              " 'I-art',\n",
              " 'I-eve',\n",
              " 'I-geo',\n",
              " 'I-gpe',\n",
              " 'I-nat',\n",
              " 'I-org',\n",
              " 'I-per',\n",
              " 'I-tim']"
            ]
          },
          "metadata": {
            "tags": []
          },
          "execution_count": 20
        }
      ]
    },
    {
      "cell_type": "markdown",
      "metadata": {
        "id": "JbPyqQjuxemE"
      },
      "source": [
        "Ekstraksi fitur dan split data menjadi data train dan data test"
      ]
    },
    {
      "cell_type": "code",
      "metadata": {
        "id": "xfvzcVaaxemE"
      },
      "source": [
        "X = [sent2features2(s) for s in sentences]\n",
        "y = [sent2labels2(s) for s in sentences]\n",
        "X_train, X_test, y_train, y_test = train_test_split(X, y, test_size=0.33, random_state=0)"
      ],
      "execution_count": 21,
      "outputs": []
    },
    {
      "cell_type": "markdown",
      "metadata": {
        "id": "sj6-SwZ9xemG"
      },
      "source": [
        "Cek salah satu instance di data train"
      ]
    },
    {
      "cell_type": "code",
      "metadata": {
        "colab": {
          "base_uri": "https://localhost:8080/"
        },
        "id": "1-B1e_Y7xemG",
        "outputId": "c8d284a7-38ef-4b4f-d63d-f42680d90a0d"
      },
      "source": [
        "print(X_train[0])\n",
        "print(y_train[0])"
      ],
      "execution_count": 22,
      "outputs": [
        {
          "output_type": "stream",
          "text": [
            "[{'bias': 1.0, 'word.lower()': 'a', 'word.isupper()': True, 'word.istitle()': True, 'word.isdigit()': False, 'postag': 'DT', 'postag[:2]': 'DT', 'BOS': True, '+1:word.lower()': 'second', '+1:word.istitle()': False, '+1:word.isupper()': False, '+1:postag': 'JJ', '+1:postag[:2]': 'JJ'}, {'bias': 1.0, 'word.lower()': 'second', 'word.isupper()': False, 'word.istitle()': False, 'word.isdigit()': False, 'postag': 'JJ', 'postag[:2]': 'JJ', '-1:word.lower()': 'a', '-1:word.istitle()': True, '-1:word.isupper()': True, '-1:postag': 'DT', '-1:postag[:2]': 'DT', '+1:word.lower()': 'nominee', '+1:word.istitle()': False, '+1:word.isupper()': False, '+1:postag': 'NN', '+1:postag[:2]': 'NN'}, {'bias': 1.0, 'word.lower()': 'nominee', 'word.isupper()': False, 'word.istitle()': False, 'word.isdigit()': False, 'postag': 'NN', 'postag[:2]': 'NN', '-1:word.lower()': 'second', '-1:word.istitle()': False, '-1:word.isupper()': False, '-1:postag': 'JJ', '-1:postag[:2]': 'JJ', '+1:word.lower()': ',', '+1:word.istitle()': False, '+1:word.isupper()': False, '+1:postag': ',', '+1:postag[:2]': ','}, {'bias': 1.0, 'word.lower()': ',', 'word.isupper()': False, 'word.istitle()': False, 'word.isdigit()': False, 'postag': ',', 'postag[:2]': ',', '-1:word.lower()': 'nominee', '-1:word.istitle()': False, '-1:word.isupper()': False, '-1:postag': 'NN', '-1:postag[:2]': 'NN', '+1:word.lower()': 'general', '+1:word.istitle()': True, '+1:word.isupper()': False, '+1:postag': 'NNP', '+1:postag[:2]': 'NN'}, {'bias': 1.0, 'word.lower()': 'general', 'word.isupper()': False, 'word.istitle()': True, 'word.isdigit()': False, 'postag': 'NNP', 'postag[:2]': 'NN', '-1:word.lower()': ',', '-1:word.istitle()': False, '-1:word.isupper()': False, '-1:postag': ',', '-1:postag[:2]': ',', '+1:word.lower()': 'sadeq', '+1:word.istitle()': True, '+1:word.isupper()': False, '+1:postag': 'NNP', '+1:postag[:2]': 'NN'}, {'bias': 1.0, 'word.lower()': 'sadeq', 'word.isupper()': False, 'word.istitle()': True, 'word.isdigit()': False, 'postag': 'NNP', 'postag[:2]': 'NN', '-1:word.lower()': 'general', '-1:word.istitle()': True, '-1:word.isupper()': False, '-1:postag': 'NNP', '-1:postag[:2]': 'NN', '+1:word.lower()': 'mahsouli', '+1:word.istitle()': True, '+1:word.isupper()': False, '+1:postag': 'NNP', '+1:postag[:2]': 'NN'}, {'bias': 1.0, 'word.lower()': 'mahsouli', 'word.isupper()': False, 'word.istitle()': True, 'word.isdigit()': False, 'postag': 'NNP', 'postag[:2]': 'NN', '-1:word.lower()': 'sadeq', '-1:word.istitle()': True, '-1:word.isupper()': False, '-1:postag': 'NNP', '-1:postag[:2]': 'NN', '+1:word.lower()': '-', '+1:word.istitle()': False, '+1:word.isupper()': False, '+1:postag': 'IN', '+1:postag[:2]': 'IN'}, {'bias': 1.0, 'word.lower()': '-', 'word.isupper()': False, 'word.istitle()': False, 'word.isdigit()': False, 'postag': 'IN', 'postag[:2]': 'IN', '-1:word.lower()': 'mahsouli', '-1:word.istitle()': True, '-1:word.isupper()': False, '-1:postag': 'NNP', '-1:postag[:2]': 'NN', '+1:word.lower()': 'a', '+1:word.istitle()': False, '+1:word.isupper()': False, '+1:postag': 'DT', '+1:postag[:2]': 'DT'}, {'bias': 1.0, 'word.lower()': 'a', 'word.isupper()': False, 'word.istitle()': False, 'word.isdigit()': False, 'postag': 'DT', 'postag[:2]': 'DT', '-1:word.lower()': '-', '-1:word.istitle()': False, '-1:word.isupper()': False, '-1:postag': 'IN', '-1:postag[:2]': 'IN', '+1:word.lower()': 'revolutionary', '+1:word.istitle()': True, '+1:word.isupper()': False, '+1:postag': 'JJ', '+1:postag[:2]': 'JJ'}, {'bias': 1.0, 'word.lower()': 'revolutionary', 'word.isupper()': False, 'word.istitle()': True, 'word.isdigit()': False, 'postag': 'JJ', 'postag[:2]': 'JJ', '-1:word.lower()': 'a', '-1:word.istitle()': False, '-1:word.isupper()': False, '-1:postag': 'DT', '-1:postag[:2]': 'DT', '+1:word.lower()': 'guards', '+1:word.istitle()': True, '+1:word.isupper()': False, '+1:postag': 'NNP', '+1:postag[:2]': 'NN'}, {'bias': 1.0, 'word.lower()': 'guards', 'word.isupper()': False, 'word.istitle()': True, 'word.isdigit()': False, 'postag': 'NNP', 'postag[:2]': 'NN', '-1:word.lower()': 'revolutionary', '-1:word.istitle()': True, '-1:word.isupper()': False, '-1:postag': 'JJ', '-1:postag[:2]': 'JJ', '+1:word.lower()': 'commander', '+1:word.istitle()': False, '+1:word.isupper()': False, '+1:postag': 'NN', '+1:postag[:2]': 'NN'}, {'bias': 1.0, 'word.lower()': 'commander', 'word.isupper()': False, 'word.istitle()': False, 'word.isdigit()': False, 'postag': 'NN', 'postag[:2]': 'NN', '-1:word.lower()': 'guards', '-1:word.istitle()': True, '-1:word.isupper()': False, '-1:postag': 'NNP', '-1:postag[:2]': 'NN', '+1:word.lower()': 'with', '+1:word.istitle()': False, '+1:word.isupper()': False, '+1:postag': 'IN', '+1:postag[:2]': 'IN'}, {'bias': 1.0, 'word.lower()': 'with', 'word.isupper()': False, 'word.istitle()': False, 'word.isdigit()': False, 'postag': 'IN', 'postag[:2]': 'IN', '-1:word.lower()': 'commander', '-1:word.istitle()': False, '-1:word.isupper()': False, '-1:postag': 'NN', '-1:postag[:2]': 'NN', '+1:word.lower()': 'no', '+1:word.istitle()': False, '+1:word.isupper()': False, '+1:postag': 'DT', '+1:postag[:2]': 'DT'}, {'bias': 1.0, 'word.lower()': 'no', 'word.isupper()': False, 'word.istitle()': False, 'word.isdigit()': False, 'postag': 'DT', 'postag[:2]': 'DT', '-1:word.lower()': 'with', '-1:word.istitle()': False, '-1:word.isupper()': False, '-1:postag': 'IN', '-1:postag[:2]': 'IN', '+1:word.lower()': 'oil', '+1:word.istitle()': False, '+1:word.isupper()': False, '+1:postag': 'NN', '+1:postag[:2]': 'NN'}, {'bias': 1.0, 'word.lower()': 'oil', 'word.isupper()': False, 'word.istitle()': False, 'word.isdigit()': False, 'postag': 'NN', 'postag[:2]': 'NN', '-1:word.lower()': 'no', '-1:word.istitle()': False, '-1:word.isupper()': False, '-1:postag': 'DT', '-1:postag[:2]': 'DT', '+1:word.lower()': 'experience', '+1:word.istitle()': False, '+1:word.isupper()': False, '+1:postag': 'NN', '+1:postag[:2]': 'NN'}, {'bias': 1.0, 'word.lower()': 'experience', 'word.isupper()': False, 'word.istitle()': False, 'word.isdigit()': False, 'postag': 'NN', 'postag[:2]': 'NN', '-1:word.lower()': 'oil', '-1:word.istitle()': False, '-1:word.isupper()': False, '-1:postag': 'NN', '-1:postag[:2]': 'NN', '+1:word.lower()': '-', '+1:word.istitle()': False, '+1:word.isupper()': False, '+1:postag': ':', '+1:postag[:2]': ':'}, {'bias': 1.0, 'word.lower()': '-', 'word.isupper()': False, 'word.istitle()': False, 'word.isdigit()': False, 'postag': ':', 'postag[:2]': ':', '-1:word.lower()': 'experience', '-1:word.istitle()': False, '-1:word.isupper()': False, '-1:postag': 'NN', '-1:postag[:2]': 'NN', '+1:word.lower()': 'withdrew', '+1:word.istitle()': False, '+1:word.isupper()': False, '+1:postag': 'VBD', '+1:postag[:2]': 'VB'}, {'bias': 1.0, 'word.lower()': 'withdrew', 'word.isupper()': False, 'word.istitle()': False, 'word.isdigit()': False, 'postag': 'VBD', 'postag[:2]': 'VB', '-1:word.lower()': '-', '-1:word.istitle()': False, '-1:word.isupper()': False, '-1:postag': ':', '-1:postag[:2]': ':', '+1:word.lower()': 'his', '+1:word.istitle()': False, '+1:word.isupper()': False, '+1:postag': 'PRP$', '+1:postag[:2]': 'PR'}, {'bias': 1.0, 'word.lower()': 'his', 'word.isupper()': False, 'word.istitle()': False, 'word.isdigit()': False, 'postag': 'PRP$', 'postag[:2]': 'PR', '-1:word.lower()': 'withdrew', '-1:word.istitle()': False, '-1:word.isupper()': False, '-1:postag': 'VBD', '-1:postag[:2]': 'VB', '+1:word.lower()': 'candidacy', '+1:word.istitle()': False, '+1:word.isupper()': False, '+1:postag': 'NN', '+1:postag[:2]': 'NN'}, {'bias': 1.0, 'word.lower()': 'candidacy', 'word.isupper()': False, 'word.istitle()': False, 'word.isdigit()': False, 'postag': 'NN', 'postag[:2]': 'NN', '-1:word.lower()': 'his', '-1:word.istitle()': False, '-1:word.isupper()': False, '-1:postag': 'PRP$', '-1:postag[:2]': 'PR', '+1:word.lower()': 'earlier', '+1:word.istitle()': False, '+1:word.isupper()': False, '+1:postag': 'RBR', '+1:postag[:2]': 'RB'}, {'bias': 1.0, 'word.lower()': 'earlier', 'word.isupper()': False, 'word.istitle()': False, 'word.isdigit()': False, 'postag': 'RBR', 'postag[:2]': 'RB', '-1:word.lower()': 'candidacy', '-1:word.istitle()': False, '-1:word.isupper()': False, '-1:postag': 'NN', '-1:postag[:2]': 'NN', '+1:word.lower()': 'this', '+1:word.istitle()': False, '+1:word.isupper()': False, '+1:postag': 'DT', '+1:postag[:2]': 'DT'}, {'bias': 1.0, 'word.lower()': 'this', 'word.isupper()': False, 'word.istitle()': False, 'word.isdigit()': False, 'postag': 'DT', 'postag[:2]': 'DT', '-1:word.lower()': 'earlier', '-1:word.istitle()': False, '-1:word.isupper()': False, '-1:postag': 'RBR', '-1:postag[:2]': 'RB', '+1:word.lower()': 'month', '+1:word.istitle()': False, '+1:word.isupper()': False, '+1:postag': 'NN', '+1:postag[:2]': 'NN'}, {'bias': 1.0, 'word.lower()': 'month', 'word.isupper()': False, 'word.istitle()': False, 'word.isdigit()': False, 'postag': 'NN', 'postag[:2]': 'NN', '-1:word.lower()': 'this', '-1:word.istitle()': False, '-1:word.isupper()': False, '-1:postag': 'DT', '-1:postag[:2]': 'DT', '+1:word.lower()': 'when', '+1:word.istitle()': False, '+1:word.isupper()': False, '+1:postag': 'WRB', '+1:postag[:2]': 'WR'}, {'bias': 1.0, 'word.lower()': 'when', 'word.isupper()': False, 'word.istitle()': False, 'word.isdigit()': False, 'postag': 'WRB', 'postag[:2]': 'WR', '-1:word.lower()': 'month', '-1:word.istitle()': False, '-1:word.isupper()': False, '-1:postag': 'NN', '-1:postag[:2]': 'NN', '+1:word.lower()': 'it', '+1:word.istitle()': False, '+1:word.isupper()': False, '+1:postag': 'PRP', '+1:postag[:2]': 'PR'}, {'bias': 1.0, 'word.lower()': 'it', 'word.isupper()': False, 'word.istitle()': False, 'word.isdigit()': False, 'postag': 'PRP', 'postag[:2]': 'PR', '-1:word.lower()': 'when', '-1:word.istitle()': False, '-1:word.isupper()': False, '-1:postag': 'WRB', '-1:postag[:2]': 'WR', '+1:word.lower()': 'became', '+1:word.istitle()': False, '+1:word.isupper()': False, '+1:postag': 'VBD', '+1:postag[:2]': 'VB'}, {'bias': 1.0, 'word.lower()': 'became', 'word.isupper()': False, 'word.istitle()': False, 'word.isdigit()': False, 'postag': 'VBD', 'postag[:2]': 'VB', '-1:word.lower()': 'it', '-1:word.istitle()': False, '-1:word.isupper()': False, '-1:postag': 'PRP', '-1:postag[:2]': 'PR', '+1:word.lower()': 'clear', '+1:word.istitle()': False, '+1:word.isupper()': False, '+1:postag': 'JJ', '+1:postag[:2]': 'JJ'}, {'bias': 1.0, 'word.lower()': 'clear', 'word.isupper()': False, 'word.istitle()': False, 'word.isdigit()': False, 'postag': 'JJ', 'postag[:2]': 'JJ', '-1:word.lower()': 'became', '-1:word.istitle()': False, '-1:word.isupper()': False, '-1:postag': 'VBD', '-1:postag[:2]': 'VB', '+1:word.lower()': 'parliament', '+1:word.istitle()': False, '+1:word.isupper()': False, '+1:postag': 'NN', '+1:postag[:2]': 'NN'}, {'bias': 1.0, 'word.lower()': 'parliament', 'word.isupper()': False, 'word.istitle()': False, 'word.isdigit()': False, 'postag': 'NN', 'postag[:2]': 'NN', '-1:word.lower()': 'clear', '-1:word.istitle()': False, '-1:word.isupper()': False, '-1:postag': 'JJ', '-1:postag[:2]': 'JJ', '+1:word.lower()': 'would', '+1:word.istitle()': False, '+1:word.isupper()': False, '+1:postag': 'MD', '+1:postag[:2]': 'MD'}, {'bias': 1.0, 'word.lower()': 'would', 'word.isupper()': False, 'word.istitle()': False, 'word.isdigit()': False, 'postag': 'MD', 'postag[:2]': 'MD', '-1:word.lower()': 'parliament', '-1:word.istitle()': False, '-1:word.isupper()': False, '-1:postag': 'NN', '-1:postag[:2]': 'NN', '+1:word.lower()': 'reject', '+1:word.istitle()': False, '+1:word.isupper()': False, '+1:postag': 'VB', '+1:postag[:2]': 'VB'}, {'bias': 1.0, 'word.lower()': 'reject', 'word.isupper()': False, 'word.istitle()': False, 'word.isdigit()': False, 'postag': 'VB', 'postag[:2]': 'VB', '-1:word.lower()': 'would', '-1:word.istitle()': False, '-1:word.isupper()': False, '-1:postag': 'MD', '-1:postag[:2]': 'MD', '+1:word.lower()': 'him', '+1:word.istitle()': False, '+1:word.isupper()': False, '+1:postag': 'PRP', '+1:postag[:2]': 'PR'}, {'bias': 1.0, 'word.lower()': 'him', 'word.isupper()': False, 'word.istitle()': False, 'word.isdigit()': False, 'postag': 'PRP', 'postag[:2]': 'PR', '-1:word.lower()': 'reject', '-1:word.istitle()': False, '-1:word.isupper()': False, '-1:postag': 'VB', '-1:postag[:2]': 'VB', '+1:word.lower()': 'as', '+1:word.istitle()': False, '+1:word.isupper()': False, '+1:postag': 'RB', '+1:postag[:2]': 'RB'}, {'bias': 1.0, 'word.lower()': 'as', 'word.isupper()': False, 'word.istitle()': False, 'word.isdigit()': False, 'postag': 'RB', 'postag[:2]': 'RB', '-1:word.lower()': 'him', '-1:word.istitle()': False, '-1:word.isupper()': False, '-1:postag': 'PRP', '-1:postag[:2]': 'PR', '+1:word.lower()': 'well', '+1:word.istitle()': False, '+1:word.isupper()': False, '+1:postag': 'RB', '+1:postag[:2]': 'RB'}, {'bias': 1.0, 'word.lower()': 'well', 'word.isupper()': False, 'word.istitle()': False, 'word.isdigit()': False, 'postag': 'RB', 'postag[:2]': 'RB', '-1:word.lower()': 'as', '-1:word.istitle()': False, '-1:word.isupper()': False, '-1:postag': 'RB', '-1:postag[:2]': 'RB', '+1:word.lower()': '.', '+1:word.istitle()': False, '+1:word.isupper()': False, '+1:postag': '.', '+1:postag[:2]': '.'}, {'bias': 1.0, 'word.lower()': '.', 'word.isupper()': False, 'word.istitle()': False, 'word.isdigit()': False, 'postag': '.', 'postag[:2]': '.', '-1:word.lower()': 'well', '-1:word.istitle()': False, '-1:word.isupper()': False, '-1:postag': 'RB', '-1:postag[:2]': 'RB', 'EOS': True}]\n",
            "['O', 'O', 'O', 'O', 'B-org', 'I-org', 'I-org', 'O', 'O', 'B-org', 'I-org', 'O', 'O', 'O', 'O', 'O', 'O', 'O', 'O', 'O', 'O', 'O', 'O', 'O', 'O', 'O', 'O', 'O', 'O', 'O', 'O', 'O', 'O', 'O']\n"
          ],
          "name": "stdout"
        }
      ]
    },
    {
      "cell_type": "markdown",
      "metadata": {
        "id": "l58uoMUvxemH"
      },
      "source": [
        "Pelatihan dengan metode CRF"
      ]
    },
    {
      "cell_type": "code",
      "metadata": {
        "colab": {
          "base_uri": "https://localhost:8080/"
        },
        "id": "ObOYakhbxemI",
        "outputId": "5dbe03d6-9e12-4749-8533-4648d5e5dd29"
      },
      "source": [
        "crf = sklearn_crfsuite.CRF(\n",
        "    algorithm='lbfgs',\n",
        "    c1=0.1,\n",
        "    c2=0.1,\n",
        "    max_iterations=100,\n",
        "    all_possible_transitions=True\n",
        ")\n",
        "crf.fit(X_train, y_train)"
      ],
      "execution_count": 23,
      "outputs": [
        {
          "output_type": "stream",
          "text": [
            "/usr/local/lib/python3.6/dist-packages/sklearn/base.py:197: FutureWarning: From version 0.24, get_params will raise an AttributeError if a parameter cannot be retrieved as an instance attribute. Previously it would return None.\n",
            "  FutureWarning)\n"
          ],
          "name": "stderr"
        },
        {
          "output_type": "execute_result",
          "data": {
            "text/plain": [
              "CRF(algorithm='lbfgs', all_possible_states=None, all_possible_transitions=True,\n",
              "    averaging=None, c=None, c1=0.1, c2=0.1, calibration_candidates=None,\n",
              "    calibration_eta=None, calibration_max_trials=None, calibration_rate=None,\n",
              "    calibration_samples=None, delta=None, epsilon=None, error_sensitive=None,\n",
              "    gamma=None, keep_tempfiles=None, linesearch=None, max_iterations=100,\n",
              "    max_linesearch=None, min_freq=None, model_filename=None, num_memories=None,\n",
              "    pa_type=None, period=None, trainer_cls=None, variance=None, verbose=False)"
            ]
          },
          "metadata": {
            "tags": []
          },
          "execution_count": 23
        }
      ]
    },
    {
      "cell_type": "markdown",
      "metadata": {
        "id": "sQ5nkAs7xemI"
      },
      "source": [
        "Prediksi label data test.\n",
        "\n",
        "Print metriks evaluasi."
      ]
    },
    {
      "cell_type": "code",
      "metadata": {
        "colab": {
          "base_uri": "https://localhost:8080/"
        },
        "id": "aRrNBOCZxemJ",
        "outputId": "b0ed087b-b810-4e57-8656-a83811c2c73d"
      },
      "source": [
        "y_pred = crf.predict(X_test)\n",
        "print(metrics.flat_classification_report(y_test, y_pred, labels = new_classes))"
      ],
      "execution_count": 24,
      "outputs": [
        {
          "output_type": "stream",
          "text": [
            "              precision    recall  f1-score   support\n",
            "\n",
            "       B-art       1.00      0.03      0.07        29\n",
            "       B-eve       1.00      0.25      0.40        24\n",
            "       B-geo       0.74      0.88      0.81      1043\n",
            "       B-gpe       0.88      0.76      0.81       588\n",
            "       B-nat       0.67      0.20      0.31        10\n",
            "       B-org       0.74      0.62      0.68       649\n",
            "       B-per       0.82      0.80      0.81       546\n",
            "       B-tim       0.92      0.83      0.87       589\n",
            "       I-art       0.00      0.00      0.00         7\n",
            "       I-eve       1.00      0.22      0.36        18\n",
            "       I-geo       0.69      0.71      0.70       204\n",
            "       I-gpe       0.45      0.53      0.49        17\n",
            "       I-nat       1.00      0.50      0.67         2\n",
            "       I-org       0.78      0.73      0.76       545\n",
            "       I-per       0.80      0.91      0.85       574\n",
            "       I-tim       0.81      0.68      0.74       185\n",
            "\n",
            "   micro avg       0.79      0.78      0.78      5030\n",
            "   macro avg       0.77      0.54      0.58      5030\n",
            "weighted avg       0.80      0.78      0.78      5030\n",
            "\n"
          ],
          "name": "stdout"
        },
        {
          "output_type": "stream",
          "text": [
            "/usr/local/lib/python3.6/dist-packages/sklearn/metrics/_classification.py:1272: UndefinedMetricWarning: Precision and F-score are ill-defined and being set to 0.0 in labels with no predicted samples. Use `zero_division` parameter to control this behavior.\n",
            "  _warn_prf(average, modifier, msg_start, len(result))\n"
          ],
          "name": "stderr"
        }
      ]
    },
    {
      "cell_type": "markdown",
      "metadata": {
        "id": "6mEkLDZbU62L"
      },
      "source": [
        "# **Dengan semua fitur**"
      ]
    },
    {
      "cell_type": "code",
      "metadata": {
        "id": "lUYQ7inPU62M"
      },
      "source": [
        "def word2features3(sent, i):\n",
        "    word = sent[i][0]\n",
        "    postag = sent[i][1]\n",
        "    \n",
        "    features = {\n",
        "        'bias': 1.0, \n",
        "        'word.lower()': word.lower(), \n",
        "        'word[-3:]': word[-3:],\n",
        "        'word[-2:]': word[-2:],\n",
        "        'word.isupper()': word.isupper(),\n",
        "        'word.istitle()': word.istitle(),\n",
        "        'word.isdigit()': word.isdigit(),\n",
        "        'postag': postag,\n",
        "        'postag[:2]': postag[:2],\n",
        "    }\n",
        "    if i > 0:\n",
        "        word1 = sent[i-1][0]\n",
        "        postag1 = sent[i-1][1]\n",
        "        features.update({\n",
        "            '-1:word.lower()': word1.lower(),\n",
        "            '-1:word.istitle()': word1.istitle(),\n",
        "            '-1:word.isupper()': word1.isupper(),\n",
        "            '-1:postag': postag1,\n",
        "            '-1:postag[:2]': postag1[:2],\n",
        "        })\n",
        "    else:\n",
        "        features['BOS'] = True\n",
        "    if i < len(sent)-1:\n",
        "        word1 = sent[i+1][0]\n",
        "        postag1 = sent[i+1][1]\n",
        "        features.update({\n",
        "            '+1:word.lower()': word1.lower(),\n",
        "            '+1:word.istitle()': word1.istitle(),\n",
        "            '+1:word.isupper()': word1.isupper(),\n",
        "            '+1:postag': postag1,\n",
        "            '+1:postag[:2]': postag1[:2],\n",
        "        })\n",
        "    else:\n",
        "        features['EOS'] = True\n",
        "\n",
        "    return features\n",
        "\n",
        "def sent2features3(sent):\n",
        "    return [word2features3(sent, i) for i in range(len(sent))]\n",
        "\n",
        "def sent2labels3(sent):\n",
        "    return [label for token, postag, label in sent]\n",
        "    \n",
        "def sent2tokens3(sent):\n",
        "    return [token for token, postag, label in sent]"
      ],
      "execution_count": 32,
      "outputs": []
    },
    {
      "cell_type": "markdown",
      "metadata": {
        "id": "u4zJEtTLU62N"
      },
      "source": [
        "Kelas/label tag, diproses supaya nanti label O tidak diperhitungkan untuk evaluasi"
      ]
    },
    {
      "cell_type": "code",
      "metadata": {
        "colab": {
          "base_uri": "https://localhost:8080/"
        },
        "id": "LuAvAWDRU62N",
        "outputId": "a20b6400-06e7-46d7-a742-7fcad3c42ccd"
      },
      "source": [
        "y = df.Tag.values\n",
        "classes = np.unique(y)\n",
        "classes = classes.tolist()\n",
        "new_classes = classes.copy()\n",
        "new_classes.pop()\n",
        "new_classes"
      ],
      "execution_count": 33,
      "outputs": [
        {
          "output_type": "execute_result",
          "data": {
            "text/plain": [
              "['B-art',\n",
              " 'B-eve',\n",
              " 'B-geo',\n",
              " 'B-gpe',\n",
              " 'B-nat',\n",
              " 'B-org',\n",
              " 'B-per',\n",
              " 'B-tim',\n",
              " 'I-art',\n",
              " 'I-eve',\n",
              " 'I-geo',\n",
              " 'I-gpe',\n",
              " 'I-nat',\n",
              " 'I-org',\n",
              " 'I-per',\n",
              " 'I-tim']"
            ]
          },
          "metadata": {
            "tags": []
          },
          "execution_count": 33
        }
      ]
    },
    {
      "cell_type": "markdown",
      "metadata": {
        "id": "oM7EP0dQU62O"
      },
      "source": [
        "Ekstraksi fitur dan split data menjadi data train dan data test"
      ]
    },
    {
      "cell_type": "code",
      "metadata": {
        "id": "Mbg9tkcjU62P"
      },
      "source": [
        "X = [sent2features3(s) for s in sentences]\n",
        "y = [sent2labels3(s) for s in sentences]\n",
        "X_train, X_test, y_train, y_test = train_test_split(X, y, test_size=0.33, random_state=0)"
      ],
      "execution_count": 34,
      "outputs": []
    },
    {
      "cell_type": "markdown",
      "metadata": {
        "id": "8NBzSLksU62P"
      },
      "source": [
        "Cek salah satu instance di data train"
      ]
    },
    {
      "cell_type": "code",
      "metadata": {
        "colab": {
          "base_uri": "https://localhost:8080/"
        },
        "id": "Hz8gFlZ5U62P",
        "outputId": "8cddd2ba-1cd7-4036-fa60-ede39ef48678"
      },
      "source": [
        "print(X_train[0])\n",
        "print(y_train[0])"
      ],
      "execution_count": 35,
      "outputs": [
        {
          "output_type": "stream",
          "text": [
            "[{'bias': 1.0, 'word.lower()': 'a', 'word[-3:]': 'A', 'word[-2:]': 'A', 'word.isupper()': True, 'word.istitle()': True, 'word.isdigit()': False, 'postag': 'DT', 'postag[:2]': 'DT', 'BOS': True, '+1:word.lower()': 'second', '+1:word.istitle()': False, '+1:word.isupper()': False, '+1:postag': 'JJ', '+1:postag[:2]': 'JJ'}, {'bias': 1.0, 'word.lower()': 'second', 'word[-3:]': 'ond', 'word[-2:]': 'nd', 'word.isupper()': False, 'word.istitle()': False, 'word.isdigit()': False, 'postag': 'JJ', 'postag[:2]': 'JJ', '-1:word.lower()': 'a', '-1:word.istitle()': True, '-1:word.isupper()': True, '-1:postag': 'DT', '-1:postag[:2]': 'DT', '+1:word.lower()': 'nominee', '+1:word.istitle()': False, '+1:word.isupper()': False, '+1:postag': 'NN', '+1:postag[:2]': 'NN'}, {'bias': 1.0, 'word.lower()': 'nominee', 'word[-3:]': 'nee', 'word[-2:]': 'ee', 'word.isupper()': False, 'word.istitle()': False, 'word.isdigit()': False, 'postag': 'NN', 'postag[:2]': 'NN', '-1:word.lower()': 'second', '-1:word.istitle()': False, '-1:word.isupper()': False, '-1:postag': 'JJ', '-1:postag[:2]': 'JJ', '+1:word.lower()': ',', '+1:word.istitle()': False, '+1:word.isupper()': False, '+1:postag': ',', '+1:postag[:2]': ','}, {'bias': 1.0, 'word.lower()': ',', 'word[-3:]': ',', 'word[-2:]': ',', 'word.isupper()': False, 'word.istitle()': False, 'word.isdigit()': False, 'postag': ',', 'postag[:2]': ',', '-1:word.lower()': 'nominee', '-1:word.istitle()': False, '-1:word.isupper()': False, '-1:postag': 'NN', '-1:postag[:2]': 'NN', '+1:word.lower()': 'general', '+1:word.istitle()': True, '+1:word.isupper()': False, '+1:postag': 'NNP', '+1:postag[:2]': 'NN'}, {'bias': 1.0, 'word.lower()': 'general', 'word[-3:]': 'ral', 'word[-2:]': 'al', 'word.isupper()': False, 'word.istitle()': True, 'word.isdigit()': False, 'postag': 'NNP', 'postag[:2]': 'NN', '-1:word.lower()': ',', '-1:word.istitle()': False, '-1:word.isupper()': False, '-1:postag': ',', '-1:postag[:2]': ',', '+1:word.lower()': 'sadeq', '+1:word.istitle()': True, '+1:word.isupper()': False, '+1:postag': 'NNP', '+1:postag[:2]': 'NN'}, {'bias': 1.0, 'word.lower()': 'sadeq', 'word[-3:]': 'deq', 'word[-2:]': 'eq', 'word.isupper()': False, 'word.istitle()': True, 'word.isdigit()': False, 'postag': 'NNP', 'postag[:2]': 'NN', '-1:word.lower()': 'general', '-1:word.istitle()': True, '-1:word.isupper()': False, '-1:postag': 'NNP', '-1:postag[:2]': 'NN', '+1:word.lower()': 'mahsouli', '+1:word.istitle()': True, '+1:word.isupper()': False, '+1:postag': 'NNP', '+1:postag[:2]': 'NN'}, {'bias': 1.0, 'word.lower()': 'mahsouli', 'word[-3:]': 'uli', 'word[-2:]': 'li', 'word.isupper()': False, 'word.istitle()': True, 'word.isdigit()': False, 'postag': 'NNP', 'postag[:2]': 'NN', '-1:word.lower()': 'sadeq', '-1:word.istitle()': True, '-1:word.isupper()': False, '-1:postag': 'NNP', '-1:postag[:2]': 'NN', '+1:word.lower()': '-', '+1:word.istitle()': False, '+1:word.isupper()': False, '+1:postag': 'IN', '+1:postag[:2]': 'IN'}, {'bias': 1.0, 'word.lower()': '-', 'word[-3:]': '-', 'word[-2:]': '-', 'word.isupper()': False, 'word.istitle()': False, 'word.isdigit()': False, 'postag': 'IN', 'postag[:2]': 'IN', '-1:word.lower()': 'mahsouli', '-1:word.istitle()': True, '-1:word.isupper()': False, '-1:postag': 'NNP', '-1:postag[:2]': 'NN', '+1:word.lower()': 'a', '+1:word.istitle()': False, '+1:word.isupper()': False, '+1:postag': 'DT', '+1:postag[:2]': 'DT'}, {'bias': 1.0, 'word.lower()': 'a', 'word[-3:]': 'a', 'word[-2:]': 'a', 'word.isupper()': False, 'word.istitle()': False, 'word.isdigit()': False, 'postag': 'DT', 'postag[:2]': 'DT', '-1:word.lower()': '-', '-1:word.istitle()': False, '-1:word.isupper()': False, '-1:postag': 'IN', '-1:postag[:2]': 'IN', '+1:word.lower()': 'revolutionary', '+1:word.istitle()': True, '+1:word.isupper()': False, '+1:postag': 'JJ', '+1:postag[:2]': 'JJ'}, {'bias': 1.0, 'word.lower()': 'revolutionary', 'word[-3:]': 'ary', 'word[-2:]': 'ry', 'word.isupper()': False, 'word.istitle()': True, 'word.isdigit()': False, 'postag': 'JJ', 'postag[:2]': 'JJ', '-1:word.lower()': 'a', '-1:word.istitle()': False, '-1:word.isupper()': False, '-1:postag': 'DT', '-1:postag[:2]': 'DT', '+1:word.lower()': 'guards', '+1:word.istitle()': True, '+1:word.isupper()': False, '+1:postag': 'NNP', '+1:postag[:2]': 'NN'}, {'bias': 1.0, 'word.lower()': 'guards', 'word[-3:]': 'rds', 'word[-2:]': 'ds', 'word.isupper()': False, 'word.istitle()': True, 'word.isdigit()': False, 'postag': 'NNP', 'postag[:2]': 'NN', '-1:word.lower()': 'revolutionary', '-1:word.istitle()': True, '-1:word.isupper()': False, '-1:postag': 'JJ', '-1:postag[:2]': 'JJ', '+1:word.lower()': 'commander', '+1:word.istitle()': False, '+1:word.isupper()': False, '+1:postag': 'NN', '+1:postag[:2]': 'NN'}, {'bias': 1.0, 'word.lower()': 'commander', 'word[-3:]': 'der', 'word[-2:]': 'er', 'word.isupper()': False, 'word.istitle()': False, 'word.isdigit()': False, 'postag': 'NN', 'postag[:2]': 'NN', '-1:word.lower()': 'guards', '-1:word.istitle()': True, '-1:word.isupper()': False, '-1:postag': 'NNP', '-1:postag[:2]': 'NN', '+1:word.lower()': 'with', '+1:word.istitle()': False, '+1:word.isupper()': False, '+1:postag': 'IN', '+1:postag[:2]': 'IN'}, {'bias': 1.0, 'word.lower()': 'with', 'word[-3:]': 'ith', 'word[-2:]': 'th', 'word.isupper()': False, 'word.istitle()': False, 'word.isdigit()': False, 'postag': 'IN', 'postag[:2]': 'IN', '-1:word.lower()': 'commander', '-1:word.istitle()': False, '-1:word.isupper()': False, '-1:postag': 'NN', '-1:postag[:2]': 'NN', '+1:word.lower()': 'no', '+1:word.istitle()': False, '+1:word.isupper()': False, '+1:postag': 'DT', '+1:postag[:2]': 'DT'}, {'bias': 1.0, 'word.lower()': 'no', 'word[-3:]': 'no', 'word[-2:]': 'no', 'word.isupper()': False, 'word.istitle()': False, 'word.isdigit()': False, 'postag': 'DT', 'postag[:2]': 'DT', '-1:word.lower()': 'with', '-1:word.istitle()': False, '-1:word.isupper()': False, '-1:postag': 'IN', '-1:postag[:2]': 'IN', '+1:word.lower()': 'oil', '+1:word.istitle()': False, '+1:word.isupper()': False, '+1:postag': 'NN', '+1:postag[:2]': 'NN'}, {'bias': 1.0, 'word.lower()': 'oil', 'word[-3:]': 'oil', 'word[-2:]': 'il', 'word.isupper()': False, 'word.istitle()': False, 'word.isdigit()': False, 'postag': 'NN', 'postag[:2]': 'NN', '-1:word.lower()': 'no', '-1:word.istitle()': False, '-1:word.isupper()': False, '-1:postag': 'DT', '-1:postag[:2]': 'DT', '+1:word.lower()': 'experience', '+1:word.istitle()': False, '+1:word.isupper()': False, '+1:postag': 'NN', '+1:postag[:2]': 'NN'}, {'bias': 1.0, 'word.lower()': 'experience', 'word[-3:]': 'nce', 'word[-2:]': 'ce', 'word.isupper()': False, 'word.istitle()': False, 'word.isdigit()': False, 'postag': 'NN', 'postag[:2]': 'NN', '-1:word.lower()': 'oil', '-1:word.istitle()': False, '-1:word.isupper()': False, '-1:postag': 'NN', '-1:postag[:2]': 'NN', '+1:word.lower()': '-', '+1:word.istitle()': False, '+1:word.isupper()': False, '+1:postag': ':', '+1:postag[:2]': ':'}, {'bias': 1.0, 'word.lower()': '-', 'word[-3:]': '-', 'word[-2:]': '-', 'word.isupper()': False, 'word.istitle()': False, 'word.isdigit()': False, 'postag': ':', 'postag[:2]': ':', '-1:word.lower()': 'experience', '-1:word.istitle()': False, '-1:word.isupper()': False, '-1:postag': 'NN', '-1:postag[:2]': 'NN', '+1:word.lower()': 'withdrew', '+1:word.istitle()': False, '+1:word.isupper()': False, '+1:postag': 'VBD', '+1:postag[:2]': 'VB'}, {'bias': 1.0, 'word.lower()': 'withdrew', 'word[-3:]': 'rew', 'word[-2:]': 'ew', 'word.isupper()': False, 'word.istitle()': False, 'word.isdigit()': False, 'postag': 'VBD', 'postag[:2]': 'VB', '-1:word.lower()': '-', '-1:word.istitle()': False, '-1:word.isupper()': False, '-1:postag': ':', '-1:postag[:2]': ':', '+1:word.lower()': 'his', '+1:word.istitle()': False, '+1:word.isupper()': False, '+1:postag': 'PRP$', '+1:postag[:2]': 'PR'}, {'bias': 1.0, 'word.lower()': 'his', 'word[-3:]': 'his', 'word[-2:]': 'is', 'word.isupper()': False, 'word.istitle()': False, 'word.isdigit()': False, 'postag': 'PRP$', 'postag[:2]': 'PR', '-1:word.lower()': 'withdrew', '-1:word.istitle()': False, '-1:word.isupper()': False, '-1:postag': 'VBD', '-1:postag[:2]': 'VB', '+1:word.lower()': 'candidacy', '+1:word.istitle()': False, '+1:word.isupper()': False, '+1:postag': 'NN', '+1:postag[:2]': 'NN'}, {'bias': 1.0, 'word.lower()': 'candidacy', 'word[-3:]': 'acy', 'word[-2:]': 'cy', 'word.isupper()': False, 'word.istitle()': False, 'word.isdigit()': False, 'postag': 'NN', 'postag[:2]': 'NN', '-1:word.lower()': 'his', '-1:word.istitle()': False, '-1:word.isupper()': False, '-1:postag': 'PRP$', '-1:postag[:2]': 'PR', '+1:word.lower()': 'earlier', '+1:word.istitle()': False, '+1:word.isupper()': False, '+1:postag': 'RBR', '+1:postag[:2]': 'RB'}, {'bias': 1.0, 'word.lower()': 'earlier', 'word[-3:]': 'ier', 'word[-2:]': 'er', 'word.isupper()': False, 'word.istitle()': False, 'word.isdigit()': False, 'postag': 'RBR', 'postag[:2]': 'RB', '-1:word.lower()': 'candidacy', '-1:word.istitle()': False, '-1:word.isupper()': False, '-1:postag': 'NN', '-1:postag[:2]': 'NN', '+1:word.lower()': 'this', '+1:word.istitle()': False, '+1:word.isupper()': False, '+1:postag': 'DT', '+1:postag[:2]': 'DT'}, {'bias': 1.0, 'word.lower()': 'this', 'word[-3:]': 'his', 'word[-2:]': 'is', 'word.isupper()': False, 'word.istitle()': False, 'word.isdigit()': False, 'postag': 'DT', 'postag[:2]': 'DT', '-1:word.lower()': 'earlier', '-1:word.istitle()': False, '-1:word.isupper()': False, '-1:postag': 'RBR', '-1:postag[:2]': 'RB', '+1:word.lower()': 'month', '+1:word.istitle()': False, '+1:word.isupper()': False, '+1:postag': 'NN', '+1:postag[:2]': 'NN'}, {'bias': 1.0, 'word.lower()': 'month', 'word[-3:]': 'nth', 'word[-2:]': 'th', 'word.isupper()': False, 'word.istitle()': False, 'word.isdigit()': False, 'postag': 'NN', 'postag[:2]': 'NN', '-1:word.lower()': 'this', '-1:word.istitle()': False, '-1:word.isupper()': False, '-1:postag': 'DT', '-1:postag[:2]': 'DT', '+1:word.lower()': 'when', '+1:word.istitle()': False, '+1:word.isupper()': False, '+1:postag': 'WRB', '+1:postag[:2]': 'WR'}, {'bias': 1.0, 'word.lower()': 'when', 'word[-3:]': 'hen', 'word[-2:]': 'en', 'word.isupper()': False, 'word.istitle()': False, 'word.isdigit()': False, 'postag': 'WRB', 'postag[:2]': 'WR', '-1:word.lower()': 'month', '-1:word.istitle()': False, '-1:word.isupper()': False, '-1:postag': 'NN', '-1:postag[:2]': 'NN', '+1:word.lower()': 'it', '+1:word.istitle()': False, '+1:word.isupper()': False, '+1:postag': 'PRP', '+1:postag[:2]': 'PR'}, {'bias': 1.0, 'word.lower()': 'it', 'word[-3:]': 'it', 'word[-2:]': 'it', 'word.isupper()': False, 'word.istitle()': False, 'word.isdigit()': False, 'postag': 'PRP', 'postag[:2]': 'PR', '-1:word.lower()': 'when', '-1:word.istitle()': False, '-1:word.isupper()': False, '-1:postag': 'WRB', '-1:postag[:2]': 'WR', '+1:word.lower()': 'became', '+1:word.istitle()': False, '+1:word.isupper()': False, '+1:postag': 'VBD', '+1:postag[:2]': 'VB'}, {'bias': 1.0, 'word.lower()': 'became', 'word[-3:]': 'ame', 'word[-2:]': 'me', 'word.isupper()': False, 'word.istitle()': False, 'word.isdigit()': False, 'postag': 'VBD', 'postag[:2]': 'VB', '-1:word.lower()': 'it', '-1:word.istitle()': False, '-1:word.isupper()': False, '-1:postag': 'PRP', '-1:postag[:2]': 'PR', '+1:word.lower()': 'clear', '+1:word.istitle()': False, '+1:word.isupper()': False, '+1:postag': 'JJ', '+1:postag[:2]': 'JJ'}, {'bias': 1.0, 'word.lower()': 'clear', 'word[-3:]': 'ear', 'word[-2:]': 'ar', 'word.isupper()': False, 'word.istitle()': False, 'word.isdigit()': False, 'postag': 'JJ', 'postag[:2]': 'JJ', '-1:word.lower()': 'became', '-1:word.istitle()': False, '-1:word.isupper()': False, '-1:postag': 'VBD', '-1:postag[:2]': 'VB', '+1:word.lower()': 'parliament', '+1:word.istitle()': False, '+1:word.isupper()': False, '+1:postag': 'NN', '+1:postag[:2]': 'NN'}, {'bias': 1.0, 'word.lower()': 'parliament', 'word[-3:]': 'ent', 'word[-2:]': 'nt', 'word.isupper()': False, 'word.istitle()': False, 'word.isdigit()': False, 'postag': 'NN', 'postag[:2]': 'NN', '-1:word.lower()': 'clear', '-1:word.istitle()': False, '-1:word.isupper()': False, '-1:postag': 'JJ', '-1:postag[:2]': 'JJ', '+1:word.lower()': 'would', '+1:word.istitle()': False, '+1:word.isupper()': False, '+1:postag': 'MD', '+1:postag[:2]': 'MD'}, {'bias': 1.0, 'word.lower()': 'would', 'word[-3:]': 'uld', 'word[-2:]': 'ld', 'word.isupper()': False, 'word.istitle()': False, 'word.isdigit()': False, 'postag': 'MD', 'postag[:2]': 'MD', '-1:word.lower()': 'parliament', '-1:word.istitle()': False, '-1:word.isupper()': False, '-1:postag': 'NN', '-1:postag[:2]': 'NN', '+1:word.lower()': 'reject', '+1:word.istitle()': False, '+1:word.isupper()': False, '+1:postag': 'VB', '+1:postag[:2]': 'VB'}, {'bias': 1.0, 'word.lower()': 'reject', 'word[-3:]': 'ect', 'word[-2:]': 'ct', 'word.isupper()': False, 'word.istitle()': False, 'word.isdigit()': False, 'postag': 'VB', 'postag[:2]': 'VB', '-1:word.lower()': 'would', '-1:word.istitle()': False, '-1:word.isupper()': False, '-1:postag': 'MD', '-1:postag[:2]': 'MD', '+1:word.lower()': 'him', '+1:word.istitle()': False, '+1:word.isupper()': False, '+1:postag': 'PRP', '+1:postag[:2]': 'PR'}, {'bias': 1.0, 'word.lower()': 'him', 'word[-3:]': 'him', 'word[-2:]': 'im', 'word.isupper()': False, 'word.istitle()': False, 'word.isdigit()': False, 'postag': 'PRP', 'postag[:2]': 'PR', '-1:word.lower()': 'reject', '-1:word.istitle()': False, '-1:word.isupper()': False, '-1:postag': 'VB', '-1:postag[:2]': 'VB', '+1:word.lower()': 'as', '+1:word.istitle()': False, '+1:word.isupper()': False, '+1:postag': 'RB', '+1:postag[:2]': 'RB'}, {'bias': 1.0, 'word.lower()': 'as', 'word[-3:]': 'as', 'word[-2:]': 'as', 'word.isupper()': False, 'word.istitle()': False, 'word.isdigit()': False, 'postag': 'RB', 'postag[:2]': 'RB', '-1:word.lower()': 'him', '-1:word.istitle()': False, '-1:word.isupper()': False, '-1:postag': 'PRP', '-1:postag[:2]': 'PR', '+1:word.lower()': 'well', '+1:word.istitle()': False, '+1:word.isupper()': False, '+1:postag': 'RB', '+1:postag[:2]': 'RB'}, {'bias': 1.0, 'word.lower()': 'well', 'word[-3:]': 'ell', 'word[-2:]': 'll', 'word.isupper()': False, 'word.istitle()': False, 'word.isdigit()': False, 'postag': 'RB', 'postag[:2]': 'RB', '-1:word.lower()': 'as', '-1:word.istitle()': False, '-1:word.isupper()': False, '-1:postag': 'RB', '-1:postag[:2]': 'RB', '+1:word.lower()': '.', '+1:word.istitle()': False, '+1:word.isupper()': False, '+1:postag': '.', '+1:postag[:2]': '.'}, {'bias': 1.0, 'word.lower()': '.', 'word[-3:]': '.', 'word[-2:]': '.', 'word.isupper()': False, 'word.istitle()': False, 'word.isdigit()': False, 'postag': '.', 'postag[:2]': '.', '-1:word.lower()': 'well', '-1:word.istitle()': False, '-1:word.isupper()': False, '-1:postag': 'RB', '-1:postag[:2]': 'RB', 'EOS': True}]\n",
            "['O', 'O', 'O', 'O', 'B-org', 'I-org', 'I-org', 'O', 'O', 'B-org', 'I-org', 'O', 'O', 'O', 'O', 'O', 'O', 'O', 'O', 'O', 'O', 'O', 'O', 'O', 'O', 'O', 'O', 'O', 'O', 'O', 'O', 'O', 'O', 'O']\n"
          ],
          "name": "stdout"
        }
      ]
    },
    {
      "cell_type": "markdown",
      "metadata": {
        "id": "8p0VC50EU62Q"
      },
      "source": [
        "Pelatihan dengan metode CRF"
      ]
    },
    {
      "cell_type": "code",
      "metadata": {
        "colab": {
          "base_uri": "https://localhost:8080/"
        },
        "id": "U1vzkRekU62Q",
        "outputId": "fd5f3ea1-a192-4315-9321-20e076795513"
      },
      "source": [
        "crf = sklearn_crfsuite.CRF(\n",
        "    algorithm='lbfgs',\n",
        "    c1=0.1,\n",
        "    c2=0.1,\n",
        "    max_iterations=100,\n",
        "    all_possible_transitions=True\n",
        ")\n",
        "crf.fit(X_train, y_train)"
      ],
      "execution_count": 36,
      "outputs": [
        {
          "output_type": "stream",
          "text": [
            "/usr/local/lib/python3.6/dist-packages/sklearn/base.py:197: FutureWarning: From version 0.24, get_params will raise an AttributeError if a parameter cannot be retrieved as an instance attribute. Previously it would return None.\n",
            "  FutureWarning)\n"
          ],
          "name": "stderr"
        },
        {
          "output_type": "execute_result",
          "data": {
            "text/plain": [
              "CRF(algorithm='lbfgs', all_possible_states=None, all_possible_transitions=True,\n",
              "    averaging=None, c=None, c1=0.1, c2=0.1, calibration_candidates=None,\n",
              "    calibration_eta=None, calibration_max_trials=None, calibration_rate=None,\n",
              "    calibration_samples=None, delta=None, epsilon=None, error_sensitive=None,\n",
              "    gamma=None, keep_tempfiles=None, linesearch=None, max_iterations=100,\n",
              "    max_linesearch=None, min_freq=None, model_filename=None, num_memories=None,\n",
              "    pa_type=None, period=None, trainer_cls=None, variance=None, verbose=False)"
            ]
          },
          "metadata": {
            "tags": []
          },
          "execution_count": 36
        }
      ]
    },
    {
      "cell_type": "markdown",
      "metadata": {
        "id": "cSQAEUKCU62Q"
      },
      "source": [
        "Prediksi label data test.\n",
        "\n",
        "Print metriks evaluasi."
      ]
    },
    {
      "cell_type": "code",
      "metadata": {
        "colab": {
          "base_uri": "https://localhost:8080/"
        },
        "id": "ljIbKgn-U62R",
        "outputId": "bd699ea3-8e20-4f5a-c29a-d58676f365d8"
      },
      "source": [
        "y_pred = crf.predict(X_test)\n",
        "print(metrics.flat_classification_report(y_test, y_pred, labels = new_classes))"
      ],
      "execution_count": 37,
      "outputs": [
        {
          "output_type": "stream",
          "text": [
            "              precision    recall  f1-score   support\n",
            "\n",
            "       B-art       1.00      0.03      0.07        29\n",
            "       B-eve       0.86      0.25      0.39        24\n",
            "       B-geo       0.75      0.88      0.81      1043\n",
            "       B-gpe       0.89      0.78      0.83       588\n",
            "       B-nat       0.67      0.20      0.31        10\n",
            "       B-org       0.75      0.64      0.69       649\n",
            "       B-per       0.81      0.81      0.81       546\n",
            "       B-tim       0.90      0.85      0.87       589\n",
            "       I-art       0.00      0.00      0.00         7\n",
            "       I-eve       0.57      0.22      0.32        18\n",
            "       I-geo       0.71      0.71      0.71       204\n",
            "       I-gpe       0.47      0.53      0.50        17\n",
            "       I-nat       1.00      0.50      0.67         2\n",
            "       I-org       0.78      0.73      0.76       545\n",
            "       I-per       0.80      0.90      0.85       574\n",
            "       I-tim       0.79      0.68      0.73       185\n",
            "\n",
            "   micro avg       0.80      0.78      0.79      5030\n",
            "   macro avg       0.73      0.54      0.58      5030\n",
            "weighted avg       0.80      0.78      0.78      5030\n",
            "\n"
          ],
          "name": "stdout"
        },
        {
          "output_type": "stream",
          "text": [
            "/usr/local/lib/python3.6/dist-packages/sklearn/metrics/_classification.py:1272: UndefinedMetricWarning: Precision and F-score are ill-defined and being set to 0.0 in labels with no predicted samples. Use `zero_division` parameter to control this behavior.\n",
            "  _warn_prf(average, modifier, msg_start, len(result))\n"
          ],
          "name": "stderr"
        }
      ]
    }
  ]
}